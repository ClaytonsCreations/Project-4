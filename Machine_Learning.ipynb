{
 "cells": [
  {
   "cell_type": "code",
   "execution_count": 15,
   "id": "fc742814",
   "metadata": {},
   "outputs": [],
   "source": [
    "import matplotlib.pyplot as plt\n",
    "import pandas as pd\n",
    "import numpy as np\n",
    "from sklearn.cluster import KMeans\n",
    "from pathlib import Path\n",
    "from sklearn.preprocessing import StandardScaler"
   ]
  },
  {
   "cell_type": "code",
   "execution_count": 16,
   "id": "e25f6f5e",
   "metadata": {},
   "outputs": [
    {
     "data": {
      "text/html": [
       "<div>\n",
       "<style scoped>\n",
       "    .dataframe tbody tr th:only-of-type {\n",
       "        vertical-align: middle;\n",
       "    }\n",
       "\n",
       "    .dataframe tbody tr th {\n",
       "        vertical-align: top;\n",
       "    }\n",
       "\n",
       "    .dataframe thead th {\n",
       "        text-align: right;\n",
       "    }\n",
       "</style>\n",
       "<table border=\"1\" class=\"dataframe\">\n",
       "  <thead>\n",
       "    <tr style=\"text-align: right;\">\n",
       "      <th></th>\n",
       "      <th>Row ID</th>\n",
       "      <th>Order ID</th>\n",
       "      <th>Order Date</th>\n",
       "      <th>Order Quantity</th>\n",
       "      <th>Sales</th>\n",
       "      <th>Discount</th>\n",
       "      <th>Profit</th>\n",
       "      <th>Unit Price</th>\n",
       "      <th>Customer Name</th>\n",
       "      <th>Country</th>\n",
       "      <th>Region</th>\n",
       "      <th>Customer Segment</th>\n",
       "      <th>Product Category</th>\n",
       "      <th>Product Sub-Category</th>\n",
       "      <th>Product Name</th>\n",
       "    </tr>\n",
       "  </thead>\n",
       "  <tbody>\n",
       "    <tr>\n",
       "      <th>0</th>\n",
       "      <td>43</td>\n",
       "      <td>4132</td>\n",
       "      <td>5/28/2011</td>\n",
       "      <td>5</td>\n",
       "      <td>14.76</td>\n",
       "      <td>0.01</td>\n",
       "      <td>1.32</td>\n",
       "      <td>2.88</td>\n",
       "      <td>Aaron Bergman</td>\n",
       "      <td>CAN</td>\n",
       "      <td>Nunavut</td>\n",
       "      <td>Corporate</td>\n",
       "      <td>Office Supplies</td>\n",
       "      <td>Labels</td>\n",
       "      <td>Avery 49</td>\n",
       "    </tr>\n",
       "    <tr>\n",
       "      <th>1</th>\n",
       "      <td>8234</td>\n",
       "      <td>20513</td>\n",
       "      <td>7/7/2009</td>\n",
       "      <td>13</td>\n",
       "      <td>42.27</td>\n",
       "      <td>0.01</td>\n",
       "      <td>4.56</td>\n",
       "      <td>2.84</td>\n",
       "      <td>Aaron Bergman</td>\n",
       "      <td>CAN</td>\n",
       "      <td>West</td>\n",
       "      <td>Corporate</td>\n",
       "      <td>Office Supplies</td>\n",
       "      <td>Pens &amp; Art Supplies</td>\n",
       "      <td>SANFORD Liquid Accent� Tank-Style Highlighters</td>\n",
       "    </tr>\n",
       "    <tr>\n",
       "      <th>2</th>\n",
       "      <td>8300</td>\n",
       "      <td>36262</td>\n",
       "      <td>7/27/2010</td>\n",
       "      <td>23</td>\n",
       "      <td>164.02</td>\n",
       "      <td>0.03</td>\n",
       "      <td>-47.64</td>\n",
       "      <td>6.68</td>\n",
       "      <td>Aaron Bergman</td>\n",
       "      <td>CAN</td>\n",
       "      <td>West</td>\n",
       "      <td>Corporate</td>\n",
       "      <td>Office Supplies</td>\n",
       "      <td>Paper</td>\n",
       "      <td>Xerox 1968</td>\n",
       "    </tr>\n",
       "    <tr>\n",
       "      <th>3</th>\n",
       "      <td>8301</td>\n",
       "      <td>36262</td>\n",
       "      <td>7/27/2010</td>\n",
       "      <td>23</td>\n",
       "      <td>136.81</td>\n",
       "      <td>0.01</td>\n",
       "      <td>-30.51</td>\n",
       "      <td>5.68</td>\n",
       "      <td>Aaron Bergman</td>\n",
       "      <td>CAN</td>\n",
       "      <td>West</td>\n",
       "      <td>Corporate</td>\n",
       "      <td>Office Supplies</td>\n",
       "      <td>Scissors, Rulers and Trimmers</td>\n",
       "      <td>Acme� Preferred Stainless Steel Scissors</td>\n",
       "    </tr>\n",
       "    <tr>\n",
       "      <th>4</th>\n",
       "      <td>8302</td>\n",
       "      <td>36262</td>\n",
       "      <td>7/27/2010</td>\n",
       "      <td>26</td>\n",
       "      <td>4701.69</td>\n",
       "      <td>0.00</td>\n",
       "      <td>1148.90</td>\n",
       "      <td>205.99</td>\n",
       "      <td>Aaron Bergman</td>\n",
       "      <td>CAN</td>\n",
       "      <td>West</td>\n",
       "      <td>Corporate</td>\n",
       "      <td>Technology</td>\n",
       "      <td>Telephones and Communication</td>\n",
       "      <td>V70</td>\n",
       "    </tr>\n",
       "  </tbody>\n",
       "</table>\n",
       "</div>"
      ],
      "text/plain": [
       "   Row ID Order ID Order Date  Order Quantity    Sales  Discount   Profit  \\\n",
       "0      43     4132  5/28/2011               5    14.76      0.01     1.32   \n",
       "1    8234    20513   7/7/2009              13    42.27      0.01     4.56   \n",
       "2    8300    36262  7/27/2010              23   164.02      0.03   -47.64   \n",
       "3    8301    36262  7/27/2010              23   136.81      0.01   -30.51   \n",
       "4    8302    36262  7/27/2010              26  4701.69      0.00  1148.90   \n",
       "\n",
       "   Unit Price  Customer Name Country   Region Customer Segment  \\\n",
       "0        2.88  Aaron Bergman     CAN  Nunavut        Corporate   \n",
       "1        2.84  Aaron Bergman     CAN     West        Corporate   \n",
       "2        6.68  Aaron Bergman     CAN     West        Corporate   \n",
       "3        5.68  Aaron Bergman     CAN     West        Corporate   \n",
       "4      205.99  Aaron Bergman     CAN     West        Corporate   \n",
       "\n",
       "  Product Category           Product Sub-Category  \\\n",
       "0  Office Supplies                         Labels   \n",
       "1  Office Supplies            Pens & Art Supplies   \n",
       "2  Office Supplies                          Paper   \n",
       "3  Office Supplies  Scissors, Rulers and Trimmers   \n",
       "4       Technology   Telephones and Communication   \n",
       "\n",
       "                                     Product Name  \n",
       "0                                        Avery 49  \n",
       "1  SANFORD Liquid Accent� Tank-Style Highlighters  \n",
       "2                                      Xerox 1968  \n",
       "3        Acme� Preferred Stainless Steel Scissors  \n",
       "4                                             V70  "
      ]
     },
     "execution_count": 16,
     "metadata": {},
     "output_type": "execute_result"
    }
   ],
   "source": [
    "# Loading data\n",
    "file_path = Path(\"Superstore_merged_clean.csv\")\n",
    "Superstore = pd.read_csv(file_path)\n",
    "Superstore.head()"
   ]
  },
  {
   "cell_type": "code",
   "execution_count": 17,
   "id": "763a844c",
   "metadata": {},
   "outputs": [
    {
     "name": "stdout",
     "output_type": "stream",
     "text": [
      "<class 'pandas.core.frame.DataFrame'>\n",
      "RangeIndex: 18393 entries, 0 to 18392\n",
      "Data columns (total 15 columns):\n",
      " #   Column                Non-Null Count  Dtype  \n",
      "---  ------                --------------  -----  \n",
      " 0   Row ID                18393 non-null  int64  \n",
      " 1   Order ID              18393 non-null  object \n",
      " 2   Order Date            18393 non-null  object \n",
      " 3   Order Quantity        18393 non-null  int64  \n",
      " 4   Sales                 18393 non-null  float64\n",
      " 5   Discount              18393 non-null  float64\n",
      " 6   Profit                18393 non-null  float64\n",
      " 7   Unit Price            18393 non-null  float64\n",
      " 8   Customer Name         18393 non-null  object \n",
      " 9   Country               18393 non-null  object \n",
      " 10  Region                18393 non-null  object \n",
      " 11  Customer Segment      18393 non-null  object \n",
      " 12  Product Category      18393 non-null  object \n",
      " 13  Product Sub-Category  18393 non-null  object \n",
      " 14  Product Name          18393 non-null  object \n",
      "dtypes: float64(4), int64(2), object(9)\n",
      "memory usage: 2.1+ MB\n"
     ]
    }
   ],
   "source": [
    "Superstore.info()"
   ]
  },
  {
   "cell_type": "code",
   "execution_count": 18,
   "id": "1f2c9611",
   "metadata": {},
   "outputs": [
    {
     "data": {
      "text/html": [
       "<div>\n",
       "<style scoped>\n",
       "    .dataframe tbody tr th:only-of-type {\n",
       "        vertical-align: middle;\n",
       "    }\n",
       "\n",
       "    .dataframe tbody tr th {\n",
       "        vertical-align: top;\n",
       "    }\n",
       "\n",
       "    .dataframe thead th {\n",
       "        text-align: right;\n",
       "    }\n",
       "</style>\n",
       "<table border=\"1\" class=\"dataframe\">\n",
       "  <thead>\n",
       "    <tr style=\"text-align: right;\">\n",
       "      <th></th>\n",
       "      <th>Row ID</th>\n",
       "      <th>Order Quantity</th>\n",
       "      <th>Sales</th>\n",
       "      <th>Discount</th>\n",
       "      <th>Profit</th>\n",
       "      <th>Unit Price</th>\n",
       "    </tr>\n",
       "    <tr>\n",
       "      <th>Customer Name</th>\n",
       "      <th></th>\n",
       "      <th></th>\n",
       "      <th></th>\n",
       "      <th></th>\n",
       "      <th></th>\n",
       "      <th></th>\n",
       "    </tr>\n",
       "  </thead>\n",
       "  <tbody>\n",
       "    <tr>\n",
       "      <th>Aaron Bergman</th>\n",
       "      <td>100244</td>\n",
       "      <td>181</td>\n",
       "      <td>12516.7460</td>\n",
       "      <td>0.63</td>\n",
       "      <td>3155.1865</td>\n",
       "      <td>824.474</td>\n",
       "    </tr>\n",
       "    <tr>\n",
       "      <th>Aaron Hawkins</th>\n",
       "      <td>155507</td>\n",
       "      <td>424</td>\n",
       "      <td>29435.4255</td>\n",
       "      <td>1.68</td>\n",
       "      <td>6326.6252</td>\n",
       "      <td>1537.064</td>\n",
       "    </tr>\n",
       "    <tr>\n",
       "      <th>Aaron Smayling</th>\n",
       "      <td>124661</td>\n",
       "      <td>351</td>\n",
       "      <td>11886.0155</td>\n",
       "      <td>4.15</td>\n",
       "      <td>1860.8254</td>\n",
       "      <td>1459.530</td>\n",
       "    </tr>\n",
       "    <tr>\n",
       "      <th>Adam Bellavance</th>\n",
       "      <td>225496</td>\n",
       "      <td>389</td>\n",
       "      <td>19333.2000</td>\n",
       "      <td>1.34</td>\n",
       "      <td>1872.6485</td>\n",
       "      <td>2345.278</td>\n",
       "    </tr>\n",
       "    <tr>\n",
       "      <th>Adam Hart</th>\n",
       "      <td>355455</td>\n",
       "      <td>581</td>\n",
       "      <td>29364.6015</td>\n",
       "      <td>4.17</td>\n",
       "      <td>4353.0290</td>\n",
       "      <td>2571.345</td>\n",
       "    </tr>\n",
       "    <tr>\n",
       "      <th>...</th>\n",
       "      <td>...</td>\n",
       "      <td>...</td>\n",
       "      <td>...</td>\n",
       "      <td>...</td>\n",
       "      <td>...</td>\n",
       "      <td>...</td>\n",
       "    </tr>\n",
       "    <tr>\n",
       "      <th>Xylona Price</th>\n",
       "      <td>56614</td>\n",
       "      <td>374</td>\n",
       "      <td>18037.0855</td>\n",
       "      <td>0.60</td>\n",
       "      <td>1124.2200</td>\n",
       "      <td>764.600</td>\n",
       "    </tr>\n",
       "    <tr>\n",
       "      <th>Yana Sorensen</th>\n",
       "      <td>130792</td>\n",
       "      <td>211</td>\n",
       "      <td>8707.6040</td>\n",
       "      <td>0.82</td>\n",
       "      <td>1516.7623</td>\n",
       "      <td>1350.620</td>\n",
       "    </tr>\n",
       "    <tr>\n",
       "      <th>Yoseph Carroll</th>\n",
       "      <td>141169</td>\n",
       "      <td>307</td>\n",
       "      <td>15989.6680</td>\n",
       "      <td>1.09</td>\n",
       "      <td>2050.2990</td>\n",
       "      <td>1916.154</td>\n",
       "    </tr>\n",
       "    <tr>\n",
       "      <th>Zuschuss Carroll</th>\n",
       "      <td>260338</td>\n",
       "      <td>105</td>\n",
       "      <td>8025.7070</td>\n",
       "      <td>7.90</td>\n",
       "      <td>-1032.1490</td>\n",
       "      <td>1828.692</td>\n",
       "    </tr>\n",
       "    <tr>\n",
       "      <th>Zuschuss Donatelli</th>\n",
       "      <td>75582</td>\n",
       "      <td>32</td>\n",
       "      <td>1493.9440</td>\n",
       "      <td>1.00</td>\n",
       "      <td>249.1307</td>\n",
       "      <td>360.498</td>\n",
       "    </tr>\n",
       "  </tbody>\n",
       "</table>\n",
       "<p>834 rows × 6 columns</p>\n",
       "</div>"
      ],
      "text/plain": [
       "                    Row ID  Order Quantity       Sales  Discount     Profit  \\\n",
       "Customer Name                                                                 \n",
       "Aaron Bergman       100244             181  12516.7460      0.63  3155.1865   \n",
       "Aaron Hawkins       155507             424  29435.4255      1.68  6326.6252   \n",
       "Aaron Smayling      124661             351  11886.0155      4.15  1860.8254   \n",
       "Adam Bellavance     225496             389  19333.2000      1.34  1872.6485   \n",
       "Adam Hart           355455             581  29364.6015      4.17  4353.0290   \n",
       "...                    ...             ...         ...       ...        ...   \n",
       "Xylona Price         56614             374  18037.0855      0.60  1124.2200   \n",
       "Yana Sorensen       130792             211   8707.6040      0.82  1516.7623   \n",
       "Yoseph Carroll      141169             307  15989.6680      1.09  2050.2990   \n",
       "Zuschuss Carroll    260338             105   8025.7070      7.90 -1032.1490   \n",
       "Zuschuss Donatelli   75582              32   1493.9440      1.00   249.1307   \n",
       "\n",
       "                    Unit Price  \n",
       "Customer Name                   \n",
       "Aaron Bergman          824.474  \n",
       "Aaron Hawkins         1537.064  \n",
       "Aaron Smayling        1459.530  \n",
       "Adam Bellavance       2345.278  \n",
       "Adam Hart             2571.345  \n",
       "...                        ...  \n",
       "Xylona Price           764.600  \n",
       "Yana Sorensen         1350.620  \n",
       "Yoseph Carroll        1916.154  \n",
       "Zuschuss Carroll      1828.692  \n",
       "Zuschuss Donatelli     360.498  \n",
       "\n",
       "[834 rows x 6 columns]"
      ]
     },
     "execution_count": 18,
     "metadata": {},
     "output_type": "execute_result"
    }
   ],
   "source": [
    "Superstore_agg = Superstore.groupby('Customer Name').sum()\n",
    "Superstore_agg"
   ]
  },
  {
   "cell_type": "code",
   "execution_count": 75,
   "id": "fe4e0c9b",
   "metadata": {},
   "outputs": [
    {
     "data": {
      "text/html": [
       "<div>\n",
       "<style scoped>\n",
       "    .dataframe tbody tr th:only-of-type {\n",
       "        vertical-align: middle;\n",
       "    }\n",
       "\n",
       "    .dataframe tbody tr th {\n",
       "        vertical-align: top;\n",
       "    }\n",
       "\n",
       "    .dataframe thead th {\n",
       "        text-align: right;\n",
       "    }\n",
       "</style>\n",
       "<table border=\"1\" class=\"dataframe\">\n",
       "  <thead>\n",
       "    <tr style=\"text-align: right;\">\n",
       "      <th></th>\n",
       "      <th>Row ID</th>\n",
       "      <th>Order Quantity</th>\n",
       "      <th>Sales</th>\n",
       "      <th>Discount</th>\n",
       "      <th>Profit</th>\n",
       "      <th>Unit Price</th>\n",
       "    </tr>\n",
       "    <tr>\n",
       "      <th>Product Name</th>\n",
       "      <th></th>\n",
       "      <th></th>\n",
       "      <th></th>\n",
       "      <th></th>\n",
       "      <th></th>\n",
       "      <th></th>\n",
       "    </tr>\n",
       "  </thead>\n",
       "  <tbody>\n",
       "    <tr>\n",
       "      <th>\"While you Were Out\" Message Book, One Form per Page</th>\n",
       "      <td>50252</td>\n",
       "      <td>132</td>\n",
       "      <td>484.698</td>\n",
       "      <td>0.78</td>\n",
       "      <td>32.4180</td>\n",
       "      <td>28.196</td>\n",
       "    </tr>\n",
       "    <tr>\n",
       "      <th>#10 Gummed Flap White Envelopes, 100/Box</th>\n",
       "      <td>33592</td>\n",
       "      <td>11</td>\n",
       "      <td>41.300</td>\n",
       "      <td>0.40</td>\n",
       "      <td>16.7678</td>\n",
       "      <td>14.868</td>\n",
       "    </tr>\n",
       "    <tr>\n",
       "      <th>#10 Self-Seal White Envelopes</th>\n",
       "      <td>52054</td>\n",
       "      <td>158</td>\n",
       "      <td>1727.992</td>\n",
       "      <td>0.50</td>\n",
       "      <td>192.6530</td>\n",
       "      <td>97.592</td>\n",
       "    </tr>\n",
       "    <tr>\n",
       "      <th>#10 White Business Envelopes,4 1/8 x 9 1/2</th>\n",
       "      <td>116923</td>\n",
       "      <td>428</td>\n",
       "      <td>6655.574</td>\n",
       "      <td>1.04</td>\n",
       "      <td>3073.9408</td>\n",
       "      <td>307.132</td>\n",
       "    </tr>\n",
       "    <tr>\n",
       "      <th>#10- 4 1/8\" x 9 1/2\" Recycled Envelopes</th>\n",
       "      <td>145201</td>\n",
       "      <td>541</td>\n",
       "      <td>4767.842</td>\n",
       "      <td>1.48</td>\n",
       "      <td>-717.8394</td>\n",
       "      <td>228.988</td>\n",
       "    </tr>\n",
       "    <tr>\n",
       "      <th>...</th>\n",
       "      <td>...</td>\n",
       "      <td>...</td>\n",
       "      <td>...</td>\n",
       "      <td>...</td>\n",
       "      <td>...</td>\n",
       "      <td>...</td>\n",
       "    </tr>\n",
       "    <tr>\n",
       "      <th>iKross Bluetooth Portable Keyboard + Cell Phone Stand Holder + Brush for Apple iPhone 5S 5C 5, 4S 4</th>\n",
       "      <td>41990</td>\n",
       "      <td>24</td>\n",
       "      <td>477.660</td>\n",
       "      <td>0.40</td>\n",
       "      <td>115.6440</td>\n",
       "      <td>96.370</td>\n",
       "    </tr>\n",
       "    <tr>\n",
       "      <th>iOttie HLCRIO102 Car Mount</th>\n",
       "      <td>41990</td>\n",
       "      <td>12</td>\n",
       "      <td>215.892</td>\n",
       "      <td>0.80</td>\n",
       "      <td>-11.9940</td>\n",
       "      <td>83.958</td>\n",
       "    </tr>\n",
       "    <tr>\n",
       "      <th>iOttie XL Car Mount</th>\n",
       "      <td>16796</td>\n",
       "      <td>14</td>\n",
       "      <td>223.888</td>\n",
       "      <td>0.40</td>\n",
       "      <td>-50.3748</td>\n",
       "      <td>31.984</td>\n",
       "    </tr>\n",
       "    <tr>\n",
       "      <th>invisibleSHIELD by ZAGG Smudge-Free Screen Protector</th>\n",
       "      <td>58786</td>\n",
       "      <td>29</td>\n",
       "      <td>442.554</td>\n",
       "      <td>1.20</td>\n",
       "      <td>171.2648</td>\n",
       "      <td>104.342</td>\n",
       "    </tr>\n",
       "    <tr>\n",
       "      <th>netTALK DUO VoIP Telephone Service</th>\n",
       "      <td>58786</td>\n",
       "      <td>26</td>\n",
       "      <td>1112.788</td>\n",
       "      <td>1.20</td>\n",
       "      <td>430.4180</td>\n",
       "      <td>304.442</td>\n",
       "    </tr>\n",
       "  </tbody>\n",
       "</table>\n",
       "<p>2338 rows × 6 columns</p>\n",
       "</div>"
      ],
      "text/plain": [
       "                                                    Row ID  Order Quantity  \\\n",
       "Product Name                                                                 \n",
       "\"While you Were Out\" Message Book, One Form per...   50252             132   \n",
       "#10 Gummed Flap White Envelopes, 100/Box             33592              11   \n",
       "#10 Self-Seal White Envelopes                        52054             158   \n",
       "#10 White Business Envelopes,4 1/8 x 9 1/2          116923             428   \n",
       "#10- 4 1/8\" x 9 1/2\" Recycled Envelopes             145201             541   \n",
       "...                                                    ...             ...   \n",
       "iKross Bluetooth Portable Keyboard + Cell Phone...   41990              24   \n",
       "iOttie HLCRIO102 Car Mount                           41990              12   \n",
       "iOttie XL Car Mount                                  16796              14   \n",
       "invisibleSHIELD by ZAGG Smudge-Free Screen Prot...   58786              29   \n",
       "netTALK DUO VoIP Telephone Service                   58786              26   \n",
       "\n",
       "                                                       Sales  Discount  \\\n",
       "Product Name                                                             \n",
       "\"While you Were Out\" Message Book, One Form per...   484.698      0.78   \n",
       "#10 Gummed Flap White Envelopes, 100/Box              41.300      0.40   \n",
       "#10 Self-Seal White Envelopes                       1727.992      0.50   \n",
       "#10 White Business Envelopes,4 1/8 x 9 1/2          6655.574      1.04   \n",
       "#10- 4 1/8\" x 9 1/2\" Recycled Envelopes             4767.842      1.48   \n",
       "...                                                      ...       ...   \n",
       "iKross Bluetooth Portable Keyboard + Cell Phone...   477.660      0.40   \n",
       "iOttie HLCRIO102 Car Mount                           215.892      0.80   \n",
       "iOttie XL Car Mount                                  223.888      0.40   \n",
       "invisibleSHIELD by ZAGG Smudge-Free Screen Prot...   442.554      1.20   \n",
       "netTALK DUO VoIP Telephone Service                  1112.788      1.20   \n",
       "\n",
       "                                                       Profit  Unit Price  \n",
       "Product Name                                                               \n",
       "\"While you Were Out\" Message Book, One Form per...    32.4180      28.196  \n",
       "#10 Gummed Flap White Envelopes, 100/Box              16.7678      14.868  \n",
       "#10 Self-Seal White Envelopes                        192.6530      97.592  \n",
       "#10 White Business Envelopes,4 1/8 x 9 1/2          3073.9408     307.132  \n",
       "#10- 4 1/8\" x 9 1/2\" Recycled Envelopes             -717.8394     228.988  \n",
       "...                                                       ...         ...  \n",
       "iKross Bluetooth Portable Keyboard + Cell Phone...   115.6440      96.370  \n",
       "iOttie HLCRIO102 Car Mount                           -11.9940      83.958  \n",
       "iOttie XL Car Mount                                  -50.3748      31.984  \n",
       "invisibleSHIELD by ZAGG Smudge-Free Screen Prot...   171.2648     104.342  \n",
       "netTALK DUO VoIP Telephone Service                   430.4180     304.442  \n",
       "\n",
       "[2338 rows x 6 columns]"
      ]
     },
     "execution_count": 75,
     "metadata": {},
     "output_type": "execute_result"
    }
   ],
   "source": [
    "Superstore_aggProductNames = Superstore.groupby('Product Name').sum()\n",
    "Superstore_aggProductNames"
   ]
  },
  {
   "cell_type": "code",
   "execution_count": 77,
   "id": "72d03d2a",
   "metadata": {},
   "outputs": [],
   "source": [
    "Superstore_aggProductNames = Superstore_aggProductNames.drop(columns=['Row ID'])"
   ]
  },
  {
   "cell_type": "code",
   "execution_count": 83,
   "id": "9b4a8d3c",
   "metadata": {},
   "outputs": [],
   "source": [
    "Superstore_aggProduct = pd.get_dummies(Superstore_aggProductNames)"
   ]
  },
  {
   "cell_type": "code",
   "execution_count": 87,
   "id": "0a528dbd",
   "metadata": {},
   "outputs": [
    {
     "data": {
      "image/png": "[encoded data removed]",
      "text/plain": [
       "<Figure size 432x288 with 1 Axes>"
      ]
     },
     "metadata": {
      "needs_background": "light"
     },
     "output_type": "display_data"
    }
   ],
   "source": [
    "inertia = []\n",
    "# Same as k = list(range(1, 11))\n",
    "k = [1,2,3,4,5,6,7,8,9,10]\n",
    "\n",
    "\n",
    "# Looking for the best k\n",
    "for i in k:\n",
    "    km = KMeans(n_clusters=i, random_state=0)\n",
    "    km.fit(Superstore_aggProductNames)\n",
    "    inertia.append(km.inertia_)\n",
    "\n",
    "# Define a DataFrame to plot the Elbow Curve using hvPlot\n",
    "elbow_data_agg_ProductNames = {\"k\": k, \"inertia\": inertia}\n",
    "df_elbow_agg_ProductNames = pd.DataFrame(elbow_data_agg_ProductNames)\n",
    "\n",
    "plt.plot(df_elbow_agg_ProductNames['k'], df_elbow_agg_ProductNames['inertia'])\n",
    "plt.xticks(range(1,11))\n",
    "plt.xlabel('Number of clusters')\n",
    "plt.ylabel('Inertia')\n",
    "plt.savefig('Superstore_MLelbowProduct.png')"
   ]
  },
  {
   "cell_type": "code",
   "execution_count": 64,
   "id": "10e31812",
   "metadata": {},
   "outputs": [],
   "source": [
    "# Initializing model with K = 3 \n",
    "model = KMeans(n_clusters=3, random_state=5)"
   ]
  },
  {
   "cell_type": "code",
   "execution_count": 84,
   "id": "79a26c00",
   "metadata": {},
   "outputs": [
    {
     "data": {
      "text/plain": [
       "KMeans(n_clusters=3, random_state=5)"
      ]
     },
     "execution_count": 84,
     "metadata": {},
     "output_type": "execute_result"
    }
   ],
   "source": [
    "model.fit(Superstore_aggProductNames)"
   ]
  },
  {
   "cell_type": "code",
   "execution_count": 85,
   "id": "5c1028ee",
   "metadata": {},
   "outputs": [
    {
     "name": "stdout",
     "output_type": "stream",
     "text": [
      "[0 0 0 ... 0 0 0]\n"
     ]
    }
   ],
   "source": [
    "# Get predictions\n",
    "predictions = model.predict(Superstore_aggProductNames)\n",
    "print(predictions)"
   ]
  },
  {
   "cell_type": "code",
   "execution_count": 86,
   "id": "6005d56e",
   "metadata": {},
   "outputs": [
    {
     "data": {
      "text/html": [
       "<div>\n",
       "<style scoped>\n",
       "    .dataframe tbody tr th:only-of-type {\n",
       "        vertical-align: middle;\n",
       "    }\n",
       "\n",
       "    .dataframe tbody tr th {\n",
       "        vertical-align: top;\n",
       "    }\n",
       "\n",
       "    .dataframe thead th {\n",
       "        text-align: right;\n",
       "    }\n",
       "</style>\n",
       "<table border=\"1\" class=\"dataframe\">\n",
       "  <thead>\n",
       "    <tr style=\"text-align: right;\">\n",
       "      <th></th>\n",
       "      <th>Order Quantity</th>\n",
       "      <th>Sales</th>\n",
       "      <th>Discount</th>\n",
       "      <th>Profit</th>\n",
       "      <th>Unit Price</th>\n",
       "      <th>class</th>\n",
       "    </tr>\n",
       "    <tr>\n",
       "      <th>Product Name</th>\n",
       "      <th></th>\n",
       "      <th></th>\n",
       "      <th></th>\n",
       "      <th></th>\n",
       "      <th></th>\n",
       "      <th></th>\n",
       "    </tr>\n",
       "  </thead>\n",
       "  <tbody>\n",
       "    <tr>\n",
       "      <th>\"While you Were Out\" Message Book, One Form per Page</th>\n",
       "      <td>132</td>\n",
       "      <td>484.698</td>\n",
       "      <td>0.78</td>\n",
       "      <td>32.4180</td>\n",
       "      <td>28.196</td>\n",
       "      <td>0</td>\n",
       "    </tr>\n",
       "    <tr>\n",
       "      <th>#10 Gummed Flap White Envelopes, 100/Box</th>\n",
       "      <td>11</td>\n",
       "      <td>41.300</td>\n",
       "      <td>0.40</td>\n",
       "      <td>16.7678</td>\n",
       "      <td>14.868</td>\n",
       "      <td>0</td>\n",
       "    </tr>\n",
       "    <tr>\n",
       "      <th>#10 Self-Seal White Envelopes</th>\n",
       "      <td>158</td>\n",
       "      <td>1727.992</td>\n",
       "      <td>0.50</td>\n",
       "      <td>192.6530</td>\n",
       "      <td>97.592</td>\n",
       "      <td>0</td>\n",
       "    </tr>\n",
       "    <tr>\n",
       "      <th>#10 White Business Envelopes,4 1/8 x 9 1/2</th>\n",
       "      <td>428</td>\n",
       "      <td>6655.574</td>\n",
       "      <td>1.04</td>\n",
       "      <td>3073.9408</td>\n",
       "      <td>307.132</td>\n",
       "      <td>0</td>\n",
       "    </tr>\n",
       "    <tr>\n",
       "      <th>#10- 4 1/8\" x 9 1/2\" Recycled Envelopes</th>\n",
       "      <td>541</td>\n",
       "      <td>4767.842</td>\n",
       "      <td>1.48</td>\n",
       "      <td>-717.8394</td>\n",
       "      <td>228.988</td>\n",
       "      <td>0</td>\n",
       "    </tr>\n",
       "  </tbody>\n",
       "</table>\n",
       "</div>"
      ],
      "text/plain": [
       "                                                    Order Quantity     Sales  \\\n",
       "Product Name                                                                   \n",
       "\"While you Were Out\" Message Book, One Form per...             132   484.698   \n",
       "#10 Gummed Flap White Envelopes, 100/Box                        11    41.300   \n",
       "#10 Self-Seal White Envelopes                                  158  1727.992   \n",
       "#10 White Business Envelopes,4 1/8 x 9 1/2                     428  6655.574   \n",
       "#10- 4 1/8\" x 9 1/2\" Recycled Envelopes                        541  4767.842   \n",
       "\n",
       "                                                    Discount     Profit  \\\n",
       "Product Name                                                              \n",
       "\"While you Were Out\" Message Book, One Form per...      0.78    32.4180   \n",
       "#10 Gummed Flap White Envelopes, 100/Box                0.40    16.7678   \n",
       "#10 Self-Seal White Envelopes                           0.50   192.6530   \n",
       "#10 White Business Envelopes,4 1/8 x 9 1/2              1.04  3073.9408   \n",
       "#10- 4 1/8\" x 9 1/2\" Recycled Envelopes                 1.48  -717.8394   \n",
       "\n",
       "                                                    Unit Price  class  \n",
       "Product Name                                                           \n",
       "\"While you Were Out\" Message Book, One Form per...      28.196      0  \n",
       "#10 Gummed Flap White Envelopes, 100/Box                14.868      0  \n",
       "#10 Self-Seal White Envelopes                           97.592      0  \n",
       "#10 White Business Envelopes,4 1/8 x 9 1/2             307.132      0  \n",
       "#10- 4 1/8\" x 9 1/2\" Recycled Envelopes                228.988      0  "
      ]
     },
     "execution_count": 86,
     "metadata": {},
     "output_type": "execute_result"
    }
   ],
   "source": [
    "Superstore_aggProductNames[\"class\"] = model.labels_\n",
    "Superstore_aggProductNames.head()"
   ]
  },
  {
   "cell_type": "code",
   "execution_count": 88,
   "id": "9df67e01",
   "metadata": {},
   "outputs": [
    {
     "data": {
      "image/png": "[encoded data removed]",
      "text/plain": [
       "<Figure size 432x288 with 1 Axes>"
      ]
     },
     "metadata": {
      "needs_background": "light"
     },
     "output_type": "display_data"
    }
   ],
   "source": [
    "#agg\n",
    "plt.scatter(x=Superstore_aggProductNames[\"Sales\"], y=Superstore_aggProductNames['Profit'], c=Superstore_aggProductNames['class'])\n",
    "plt.xlabel('Sales')\n",
    "plt.ylabel('Profit')\n",
    "plt.savefig(\"SuperstoreScatteraggProductNames.png\")"
   ]
  },
  {
   "cell_type": "code",
   "execution_count": 48,
   "id": "81beecda",
   "metadata": {},
   "outputs": [
    {
     "name": "stdout",
     "output_type": "stream",
     "text": [
      "<class 'pandas.core.frame.DataFrame'>\n",
      "Index: 834 entries, Aaron Bergman to Zuschuss Donatelli\n",
      "Data columns (total 6 columns):\n",
      " #   Column          Non-Null Count  Dtype  \n",
      "---  ------          --------------  -----  \n",
      " 0   Row ID          834 non-null    int64  \n",
      " 1   Order Quantity  834 non-null    int64  \n",
      " 2   Sales           834 non-null    float64\n",
      " 3   Discount        834 non-null    float64\n",
      " 4   Profit          834 non-null    float64\n",
      " 5   Unit Price      834 non-null    float64\n",
      "dtypes: float64(4), int64(2)\n",
      "memory usage: 45.6+ KB\n"
     ]
    }
   ],
   "source": [
    "Superstore_agg.info()"
   ]
  },
  {
   "cell_type": "code",
   "execution_count": 49,
   "id": "563aa099",
   "metadata": {},
   "outputs": [],
   "source": [
    "Superstore_agg = Superstore_agg.drop(columns=['Row ID'])"
   ]
  },
  {
   "cell_type": "code",
   "execution_count": 50,
   "id": "d39aa6cd",
   "metadata": {},
   "outputs": [],
   "source": [
    "Superstore_agg = pd.get_dummies(Superstore_agg)"
   ]
  },
  {
   "cell_type": "code",
   "execution_count": 55,
   "id": "cb60869d",
   "metadata": {},
   "outputs": [
    {
     "name": "stderr",
     "output_type": "stream",
     "text": [
      "C:\\MyPrograms\\Anaconda3\\lib\\site-packages\\sklearn\\cluster\\_kmeans.py:881: UserWarning: KMeans is known to have a memory leak on Windows with MKL, when there are less chunks than available threads. You can avoid it by setting the environment variable OMP_NUM_THREADS=4.\n",
      "  warnings.warn(\n"
     ]
    },
    {
     "data": {
      "image/png": "[encoded data removed]",
      "text/plain": [
       "<Figure size 432x288 with 1 Axes>"
      ]
     },
     "metadata": {
      "needs_background": "light"
     },
     "output_type": "display_data"
    }
   ],
   "source": [
    "inertia = []\n",
    "# Same as k = list(range(1, 11))\n",
    "k = [1,2,3,4,5,6,7,8,9,10]\n",
    "\n",
    "\n",
    "# Looking for the best k\n",
    "for i in k:\n",
    "    km = KMeans(n_clusters=i, random_state=0)\n",
    "    km.fit(Superstore_agg)\n",
    "    inertia.append(km.inertia_)\n",
    "\n",
    "# Define a DataFrame to plot the Elbow Curve using hvPlot\n",
    "elbow_data_agg = {\"k\": k, \"inertia\": inertia}\n",
    "df_elbow_agg = pd.DataFrame(elbow_data_agg)\n",
    "\n",
    "plt.plot(df_elbow_agg['k'], df_elbow_agg['inertia'])\n",
    "plt.xticks(range(1,11))\n",
    "plt.xlabel('Number of clusters')\n",
    "plt.ylabel('Inertia')\n",
    "plt.savefig('Superstore_MLelbow.png')"
   ]
  },
  {
   "cell_type": "code",
   "execution_count": 51,
   "id": "ab0ed359",
   "metadata": {},
   "outputs": [],
   "source": [
    "# Initializing model with K = 3 \n",
    "model = KMeans(n_clusters=3, random_state=5)"
   ]
  },
  {
   "cell_type": "code",
   "execution_count": 52,
   "id": "1aef9725",
   "metadata": {},
   "outputs": [
    {
     "data": {
      "text/plain": [
       "KMeans(n_clusters=3, random_state=5)"
      ]
     },
     "execution_count": 52,
     "metadata": {},
     "output_type": "execute_result"
    }
   ],
   "source": [
    "model.fit(Superstore_agg)"
   ]
  },
  {
   "cell_type": "code",
   "execution_count": 19,
   "id": "23237a4c",
   "metadata": {},
   "outputs": [
    {
     "name": "stdout",
     "output_type": "stream",
     "text": [
      "<class 'pandas.core.frame.DataFrame'>\n",
      "RangeIndex: 18393 entries, 0 to 18392\n",
      "Data columns (total 15 columns):\n",
      " #   Column                Non-Null Count  Dtype  \n",
      "---  ------                --------------  -----  \n",
      " 0   Row ID                18393 non-null  int64  \n",
      " 1   Order ID              18393 non-null  object \n",
      " 2   Order Date            18393 non-null  object \n",
      " 3   Order Quantity        18393 non-null  int64  \n",
      " 4   Sales                 18393 non-null  float64\n",
      " 5   Discount              18393 non-null  float64\n",
      " 6   Profit                18393 non-null  float64\n",
      " 7   Unit Price            18393 non-null  float64\n",
      " 8   Customer Name         18393 non-null  object \n",
      " 9   Country               18393 non-null  object \n",
      " 10  Region                18393 non-null  object \n",
      " 11  Customer Segment      18393 non-null  object \n",
      " 12  Product Category      18393 non-null  object \n",
      " 13  Product Sub-Category  18393 non-null  object \n",
      " 14  Product Name          18393 non-null  object \n",
      "dtypes: float64(4), int64(2), object(9)\n",
      "memory usage: 2.1+ MB\n"
     ]
    }
   ],
   "source": [
    "Superstore.info()"
   ]
  },
  {
   "cell_type": "code",
   "execution_count": 53,
   "id": "d7cd73c9",
   "metadata": {},
   "outputs": [
    {
     "name": "stdout",
     "output_type": "stream",
     "text": [
      "[1 2 1 1 2 2 2 1 1 1 1 2 2 2 0 1 1 0 1 2 2 2 1 1 1 1 1 1 1 1 1 2 1 1 2 1 2\n",
      " 1 1 1 1 1 1 1 1 1 1 1 1 2 1 2 1 1 1 1 2 2 1 1 2 1 2 2 2 1 2 1 1 1 2 1 1 0\n",
      " 1 2 1 1 2 1 2 0 1 1 2 2 1 2 1 1 1 2 2 2 2 2 1 2 2 1 2 1 1 2 2 1 1 2 1 2 2\n",
      " 1 1 1 1 2 1 2 2 2 1 1 1 1 2 1 1 2 0 1 1 1 2 2 2 0 1 1 1 2 1 1 2 1 2 1 1 2\n",
      " 2 2 1 1 1 2 1 1 2 1 1 2 2 1 1 2 2 2 1 2 2 1 2 2 2 1 1 1 1 1 2 1 1 0 1 2 1\n",
      " 1 2 2 1 2 2 1 1 1 1 2 2 1 1 2 2 2 1 2 1 1 1 2 0 1 1 1 2 1 1 2 2 2 1 1 1 1\n",
      " 1 1 1 1 2 1 2 0 1 1 1 1 2 1 0 2 1 2 1 1 1 1 1 1 1 1 2 1 2 1 1 2 1 1 2 2 2\n",
      " 0 1 1 2 2 0 1 2 1 2 1 1 2 2 0 2 1 1 0 1 1 2 1 2 2 1 1 2 2 2 2 1 1 1 2 1 1\n",
      " 1 2 2 1 1 1 1 2 1 2 1 1 2 1 1 2 1 1 1 1 1 1 1 0 1 1 0 1 2 2 1 1 2 2 1 1 1\n",
      " 1 2 0 2 2 1 2 1 2 1 2 0 1 2 1 1 2 1 2 2 2 1 2 1 0 0 2 2 1 2 1 2 2 1 2 2 1\n",
      " 1 2 0 1 2 1 1 1 2 1 1 2 1 1 2 1 1 1 1 1 2 2 2 2 1 2 2 2 1 1 1 1 2 1 1 1 2\n",
      " 0 2 0 2 1 2 1 1 2 1 2 1 1 2 0 2 2 0 1 2 2 1 2 1 1 2 1 1 1 0 2 2 2 1 2 2 1\n",
      " 1 2 2 2 1 2 1 1 1 2 1 1 1 1 1 1 2 2 2 2 2 1 2 1 1 1 1 2 2 1 2 2 2 2 1 0 1\n",
      " 1 1 2 2 1 1 0 1 1 1 0 1 1 2 1 2 1 0 1 2 2 2 2 1 2 2 1 2 1 1 2 1 1 1 1 0 1\n",
      " 1 1 1 1 2 1 2 0 1 2 2 1 1 2 1 2 1 1 1 1 2 1 2 1 2 2 1 1 2 1 1 1 1 1 2 2 1\n",
      " 1 1 2 1 2 2 1 1 2 1 2 1 1 2 2 0 1 2 1 2 1 0 2 2 1 1 1 1 2 1 1 0 1 1 1 2 1\n",
      " 2 0 1 1 2 1 2 1 0 1 2 2 1 2 1 2 1 1 2 1 2 1 2 1 1 2 1 2 1 1 1 1 2 2 1 2 2\n",
      " 1 1 1 1 1 0 1 0 1 1 1 1 1 1 0 1 1 2 1 1 1 2 0 1 1 1 1 1 1 1 1 1 1 2 2 1 1\n",
      " 2 0 0 1 1 2 1 1 2 1 1 1 1 2 1 1 1 1 1 1 2 1 1 1 2 0 2 0 2 1 1 1 2 2 2 1 1\n",
      " 1 1 2 0 1 1 1 1 1 1 1 1 2 1 2 1 2 1 0 1 1 0 1 1 2 1 1 1 2 1 1 1 2 1 1 1 2\n",
      " 1 1 1 2 2 1 2 2 1 2 2 1 1 1 1 1 1 2 1 1 2 1 2 2 0 2 2 2 2 2 1 1 2 1 1 1 1\n",
      " 1 1 1 1 1 1 2 1 1 1 1 1 1 1 1 2 1 2 2 1 1 1 0 2 1 2 1 2 1 1 2 2 1 1 1 1 1\n",
      " 1 1 2 2 1 1 1 2 0 1 2 1 2 2 1 1 1 1 1 1]\n"
     ]
    }
   ],
   "source": [
    "# Get predictions\n",
    "predictions = model.predict(Superstore_agg)\n",
    "print(predictions)"
   ]
  },
  {
   "cell_type": "code",
   "execution_count": 54,
   "id": "ae505646",
   "metadata": {},
   "outputs": [
    {
     "data": {
      "text/html": [
       "<div>\n",
       "<style scoped>\n",
       "    .dataframe tbody tr th:only-of-type {\n",
       "        vertical-align: middle;\n",
       "    }\n",
       "\n",
       "    .dataframe tbody tr th {\n",
       "        vertical-align: top;\n",
       "    }\n",
       "\n",
       "    .dataframe thead th {\n",
       "        text-align: right;\n",
       "    }\n",
       "</style>\n",
       "<table border=\"1\" class=\"dataframe\">\n",
       "  <thead>\n",
       "    <tr style=\"text-align: right;\">\n",
       "      <th></th>\n",
       "      <th>Order Quantity</th>\n",
       "      <th>Sales</th>\n",
       "      <th>Discount</th>\n",
       "      <th>Profit</th>\n",
       "      <th>Unit Price</th>\n",
       "      <th>class</th>\n",
       "    </tr>\n",
       "    <tr>\n",
       "      <th>Customer Name</th>\n",
       "      <th></th>\n",
       "      <th></th>\n",
       "      <th></th>\n",
       "      <th></th>\n",
       "      <th></th>\n",
       "      <th></th>\n",
       "    </tr>\n",
       "  </thead>\n",
       "  <tbody>\n",
       "    <tr>\n",
       "      <th>Aaron Bergman</th>\n",
       "      <td>181</td>\n",
       "      <td>12516.7460</td>\n",
       "      <td>0.63</td>\n",
       "      <td>3155.1865</td>\n",
       "      <td>824.474</td>\n",
       "      <td>1</td>\n",
       "    </tr>\n",
       "    <tr>\n",
       "      <th>Aaron Hawkins</th>\n",
       "      <td>424</td>\n",
       "      <td>29435.4255</td>\n",
       "      <td>1.68</td>\n",
       "      <td>6326.6252</td>\n",
       "      <td>1537.064</td>\n",
       "      <td>2</td>\n",
       "    </tr>\n",
       "    <tr>\n",
       "      <th>Aaron Smayling</th>\n",
       "      <td>351</td>\n",
       "      <td>11886.0155</td>\n",
       "      <td>4.15</td>\n",
       "      <td>1860.8254</td>\n",
       "      <td>1459.530</td>\n",
       "      <td>1</td>\n",
       "    </tr>\n",
       "    <tr>\n",
       "      <th>Adam Bellavance</th>\n",
       "      <td>389</td>\n",
       "      <td>19333.2000</td>\n",
       "      <td>1.34</td>\n",
       "      <td>1872.6485</td>\n",
       "      <td>2345.278</td>\n",
       "      <td>1</td>\n",
       "    </tr>\n",
       "    <tr>\n",
       "      <th>Adam Hart</th>\n",
       "      <td>581</td>\n",
       "      <td>29364.6015</td>\n",
       "      <td>4.17</td>\n",
       "      <td>4353.0290</td>\n",
       "      <td>2571.345</td>\n",
       "      <td>2</td>\n",
       "    </tr>\n",
       "  </tbody>\n",
       "</table>\n",
       "</div>"
      ],
      "text/plain": [
       "                 Order Quantity       Sales  Discount     Profit  Unit Price  \\\n",
       "Customer Name                                                                  \n",
       "Aaron Bergman               181  12516.7460      0.63  3155.1865     824.474   \n",
       "Aaron Hawkins               424  29435.4255      1.68  6326.6252    1537.064   \n",
       "Aaron Smayling              351  11886.0155      4.15  1860.8254    1459.530   \n",
       "Adam Bellavance             389  19333.2000      1.34  1872.6485    2345.278   \n",
       "Adam Hart                   581  29364.6015      4.17  4353.0290    2571.345   \n",
       "\n",
       "                 class  \n",
       "Customer Name           \n",
       "Aaron Bergman        1  \n",
       "Aaron Hawkins        2  \n",
       "Aaron Smayling       1  \n",
       "Adam Bellavance      1  \n",
       "Adam Hart            2  "
      ]
     },
     "execution_count": 54,
     "metadata": {},
     "output_type": "execute_result"
    }
   ],
   "source": [
    "# Add a new class column to customers\n",
    "Superstore_agg[\"class\"] = model.labels_\n",
    "Superstore_agg.head()"
   ]
  },
  {
   "cell_type": "code",
   "execution_count": 56,
   "id": "91e450bc",
   "metadata": {},
   "outputs": [
    {
     "data": {
      "image/png": "[encoded data removed]",
      "text/plain": [
       "<Figure size 432x288 with 1 Axes>"
      ]
     },
     "metadata": {
      "needs_background": "light"
     },
     "output_type": "display_data"
    }
   ],
   "source": [
    "#agg\n",
    "plt.scatter(x=Superstore_agg[\"Sales\"], y=Superstore_agg['Profit'], c=Superstore_agg['class'])\n",
    "plt.xlabel('Sales')\n",
    "plt.ylabel('Profit')\n",
    "plt.savefig(\"SuperstoreScatteragg.png\")"
   ]
  },
  {
   "cell_type": "code",
   "execution_count": 57,
   "id": "7af7f22d",
   "metadata": {},
   "outputs": [
    {
     "data": {
      "image/png": "[encoded data removed]",
      "text/plain": [
       "<Figure size 432x288 with 1 Axes>"
      ]
     },
     "metadata": {
      "needs_background": "light"
     },
     "output_type": "display_data"
    }
   ],
   "source": [
    "#agg\n",
    "plt.scatter(x=Superstore_agg[\"Sales\"], y=Superstore_agg['Unit Price'], c=Superstore_agg['class'])\n",
    "plt.xlabel('Sales')\n",
    "plt.ylabel('Unit Price')\n",
    "plt.savefig(\"SuperstoreScatterUnit.png\")"
   ]
  },
  {
   "cell_type": "code",
   "execution_count": 58,
   "id": "b9d57933",
   "metadata": {},
   "outputs": [
    {
     "data": {
      "image/png": "[encoded data removed]",
      "text/plain": [
       "<Figure size 432x288 with 1 Axes>"
      ]
     },
     "metadata": {
      "needs_background": "light"
     },
     "output_type": "display_data"
    }
   ],
   "source": [
    "#agg\n",
    "plt.scatter(x=Superstore_agg[\"Sales\"], y=Superstore_agg['Discount'], c=Superstore_agg['class'])\n",
    "plt.xlabel('Sales')\n",
    "plt.ylabel('Discount')\n",
    "plt.savefig(\"SuperstoreScatterDiscount.png\")"
   ]
  },
  {
   "cell_type": "code",
   "execution_count": 20,
   "id": "516de751",
   "metadata": {},
   "outputs": [],
   "source": [
    "Superstore_ML = Superstore.drop(columns=['Row ID', 'Order Date'])"
   ]
  },
  {
   "cell_type": "code",
   "execution_count": 21,
   "id": "2c9b8ee3",
   "metadata": {},
   "outputs": [],
   "source": [
    "Superstore_ML = pd.get_dummies(Superstore_ML)"
   ]
  },
  {
   "cell_type": "code",
   "execution_count": 35,
   "id": "5a6044f1",
   "metadata": {},
   "outputs": [],
   "source": [
    "Superstore_ML = Superstore_ML.drop(columns=['Product Name_Canon imageCLASS 2200 Advanced Copier'])"
   ]
  },
  {
   "cell_type": "code",
   "execution_count": 36,
   "id": "5c2415a4",
   "metadata": {},
   "outputs": [
    {
     "name": "stdout",
     "output_type": "stream",
     "text": [
      "<class 'pandas.core.frame.DataFrame'>\n",
      "RangeIndex: 18393 entries, 0 to 18392\n",
      "Columns: 13776 entries, Order Quantity to class\n",
      "dtypes: float64(4), int32(1), int64(1), uint8(13770)\n",
      "memory usage: 242.3 MB\n"
     ]
    }
   ],
   "source": [
    "Superstore_ML.info()"
   ]
  },
  {
   "cell_type": "code",
   "execution_count": 42,
   "id": "fafe4546",
   "metadata": {},
   "outputs": [
    {
     "data": {
      "image/png": "[encoded data removed]",
      "text/plain": [
       "<Figure size 432x288 with 1 Axes>"
      ]
     },
     "metadata": {
      "needs_background": "light"
     },
     "output_type": "display_data"
    }
   ],
   "source": [
    "inertia = []\n",
    "# Same as k = list(range(1, 11))\n",
    "k = [1,2,3,4,5,6,7,8,9,10]\n",
    "\n",
    "\n",
    "# Looking for the best k\n",
    "for i in k:\n",
    "    km = KMeans(n_clusters=i, random_state=0)\n",
    "    km.fit(Superstore_ML)\n",
    "    inertia.append(km.inertia_)\n",
    "\n",
    "# Define a DataFrame to plot the Elbow Curve using hvPlot\n",
    "elbow_data = {\"k\": k, \"inertia\": inertia}\n",
    "df_elbow = pd.DataFrame(elbow_data)\n",
    "\n",
    "plt.plot(df_elbow['k'], df_elbow['inertia'])\n",
    "plt.xticks(range(1,11))\n",
    "plt.xlabel('Number of clusters')\n",
    "plt.ylabel('Inertia')\n",
    "plt.savefig('Superstore_MLelbow.png')"
   ]
  },
  {
   "cell_type": "code",
   "execution_count": 37,
   "id": "4db8b710",
   "metadata": {},
   "outputs": [],
   "source": [
    "# Initializing model with K = 3 \n",
    "model = KMeans(n_clusters=3, random_state=5)"
   ]
  },
  {
   "cell_type": "code",
   "execution_count": 38,
   "id": "1273e4e6",
   "metadata": {},
   "outputs": [
    {
     "data": {
      "text/plain": [
       "KMeans(n_clusters=3, random_state=5)"
      ]
     },
     "execution_count": 38,
     "metadata": {},
     "output_type": "execute_result"
    }
   ],
   "source": [
    "model.fit(Superstore_ML)"
   ]
  },
  {
   "cell_type": "code",
   "execution_count": 39,
   "id": "a9143714",
   "metadata": {},
   "outputs": [
    {
     "name": "stdout",
     "output_type": "stream",
     "text": [
      "[0 0 0 ... 0 0 0]\n"
     ]
    }
   ],
   "source": [
    "# Get predictions\n",
    "predictions = model.predict(Superstore_ML)\n",
    "print(predictions)"
   ]
  },
  {
   "cell_type": "code",
   "execution_count": 40,
   "id": "33476f20",
   "metadata": {},
   "outputs": [
    {
     "data": {
      "text/html": [
       "<div>\n",
       "<style scoped>\n",
       "    .dataframe tbody tr th:only-of-type {\n",
       "        vertical-align: middle;\n",
       "    }\n",
       "\n",
       "    .dataframe tbody tr th {\n",
       "        vertical-align: top;\n",
       "    }\n",
       "\n",
       "    .dataframe thead th {\n",
       "        text-align: right;\n",
       "    }\n",
       "</style>\n",
       "<table border=\"1\" class=\"dataframe\">\n",
       "  <thead>\n",
       "    <tr style=\"text-align: right;\">\n",
       "      <th></th>\n",
       "      <th>Order Quantity</th>\n",
       "      <th>Sales</th>\n",
       "      <th>Discount</th>\n",
       "      <th>Profit</th>\n",
       "      <th>Unit Price</th>\n",
       "      <th>Order ID_10022</th>\n",
       "      <th>Order ID_10048</th>\n",
       "      <th>Order ID_10052</th>\n",
       "      <th>Order ID_10053</th>\n",
       "      <th>Order ID_10054</th>\n",
       "      <th>...</th>\n",
       "      <th>Product Name_iDEN i550</th>\n",
       "      <th>Product Name_iDEN i95</th>\n",
       "      <th>Product Name_iDENi80s</th>\n",
       "      <th>Product Name_iHome FM Clock Radio with Lightning Dock</th>\n",
       "      <th>Product Name_iKross Bluetooth Portable Keyboard + Cell Phone Stand Holder + Brush for Apple iPhone 5S 5C 5, 4S 4</th>\n",
       "      <th>Product Name_iOttie HLCRIO102 Car Mount</th>\n",
       "      <th>Product Name_iOttie XL Car Mount</th>\n",
       "      <th>Product Name_invisibleSHIELD by ZAGG Smudge-Free Screen Protector</th>\n",
       "      <th>Product Name_netTALK DUO VoIP Telephone Service</th>\n",
       "      <th>class</th>\n",
       "    </tr>\n",
       "  </thead>\n",
       "  <tbody>\n",
       "    <tr>\n",
       "      <th>0</th>\n",
       "      <td>5</td>\n",
       "      <td>14.76</td>\n",
       "      <td>0.01</td>\n",
       "      <td>1.32</td>\n",
       "      <td>2.88</td>\n",
       "      <td>0</td>\n",
       "      <td>0</td>\n",
       "      <td>0</td>\n",
       "      <td>0</td>\n",
       "      <td>0</td>\n",
       "      <td>...</td>\n",
       "      <td>0</td>\n",
       "      <td>0</td>\n",
       "      <td>0</td>\n",
       "      <td>0</td>\n",
       "      <td>0</td>\n",
       "      <td>0</td>\n",
       "      <td>0</td>\n",
       "      <td>0</td>\n",
       "      <td>0</td>\n",
       "      <td>0</td>\n",
       "    </tr>\n",
       "    <tr>\n",
       "      <th>1</th>\n",
       "      <td>13</td>\n",
       "      <td>42.27</td>\n",
       "      <td>0.01</td>\n",
       "      <td>4.56</td>\n",
       "      <td>2.84</td>\n",
       "      <td>0</td>\n",
       "      <td>0</td>\n",
       "      <td>0</td>\n",
       "      <td>0</td>\n",
       "      <td>0</td>\n",
       "      <td>...</td>\n",
       "      <td>0</td>\n",
       "      <td>0</td>\n",
       "      <td>0</td>\n",
       "      <td>0</td>\n",
       "      <td>0</td>\n",
       "      <td>0</td>\n",
       "      <td>0</td>\n",
       "      <td>0</td>\n",
       "      <td>0</td>\n",
       "      <td>0</td>\n",
       "    </tr>\n",
       "    <tr>\n",
       "      <th>2</th>\n",
       "      <td>23</td>\n",
       "      <td>164.02</td>\n",
       "      <td>0.03</td>\n",
       "      <td>-47.64</td>\n",
       "      <td>6.68</td>\n",
       "      <td>0</td>\n",
       "      <td>0</td>\n",
       "      <td>0</td>\n",
       "      <td>0</td>\n",
       "      <td>0</td>\n",
       "      <td>...</td>\n",
       "      <td>0</td>\n",
       "      <td>0</td>\n",
       "      <td>0</td>\n",
       "      <td>0</td>\n",
       "      <td>0</td>\n",
       "      <td>0</td>\n",
       "      <td>0</td>\n",
       "      <td>0</td>\n",
       "      <td>0</td>\n",
       "      <td>0</td>\n",
       "    </tr>\n",
       "    <tr>\n",
       "      <th>3</th>\n",
       "      <td>23</td>\n",
       "      <td>136.81</td>\n",
       "      <td>0.01</td>\n",
       "      <td>-30.51</td>\n",
       "      <td>5.68</td>\n",
       "      <td>0</td>\n",
       "      <td>0</td>\n",
       "      <td>0</td>\n",
       "      <td>0</td>\n",
       "      <td>0</td>\n",
       "      <td>...</td>\n",
       "      <td>0</td>\n",
       "      <td>0</td>\n",
       "      <td>0</td>\n",
       "      <td>0</td>\n",
       "      <td>0</td>\n",
       "      <td>0</td>\n",
       "      <td>0</td>\n",
       "      <td>0</td>\n",
       "      <td>0</td>\n",
       "      <td>0</td>\n",
       "    </tr>\n",
       "    <tr>\n",
       "      <th>4</th>\n",
       "      <td>26</td>\n",
       "      <td>4701.69</td>\n",
       "      <td>0.00</td>\n",
       "      <td>1148.90</td>\n",
       "      <td>205.99</td>\n",
       "      <td>0</td>\n",
       "      <td>0</td>\n",
       "      <td>0</td>\n",
       "      <td>0</td>\n",
       "      <td>0</td>\n",
       "      <td>...</td>\n",
       "      <td>0</td>\n",
       "      <td>0</td>\n",
       "      <td>0</td>\n",
       "      <td>0</td>\n",
       "      <td>0</td>\n",
       "      <td>0</td>\n",
       "      <td>0</td>\n",
       "      <td>0</td>\n",
       "      <td>0</td>\n",
       "      <td>2</td>\n",
       "    </tr>\n",
       "  </tbody>\n",
       "</table>\n",
       "<p>5 rows × 13776 columns</p>\n",
       "</div>"
      ],
      "text/plain": [
       "   Order Quantity    Sales  Discount   Profit  Unit Price  Order ID_10022  \\\n",
       "0               5    14.76      0.01     1.32        2.88               0   \n",
       "1              13    42.27      0.01     4.56        2.84               0   \n",
       "2              23   164.02      0.03   -47.64        6.68               0   \n",
       "3              23   136.81      0.01   -30.51        5.68               0   \n",
       "4              26  4701.69      0.00  1148.90      205.99               0   \n",
       "\n",
       "   Order ID_10048  Order ID_10052  Order ID_10053  Order ID_10054  ...  \\\n",
       "0               0               0               0               0  ...   \n",
       "1               0               0               0               0  ...   \n",
       "2               0               0               0               0  ...   \n",
       "3               0               0               0               0  ...   \n",
       "4               0               0               0               0  ...   \n",
       "\n",
       "   Product Name_iDEN i550  Product Name_iDEN i95  Product Name_iDENi80s  \\\n",
       "0                       0                      0                      0   \n",
       "1                       0                      0                      0   \n",
       "2                       0                      0                      0   \n",
       "3                       0                      0                      0   \n",
       "4                       0                      0                      0   \n",
       "\n",
       "   Product Name_iHome FM Clock Radio with Lightning Dock  \\\n",
       "0                                                  0       \n",
       "1                                                  0       \n",
       "2                                                  0       \n",
       "3                                                  0       \n",
       "4                                                  0       \n",
       "\n",
       "   Product Name_iKross Bluetooth Portable Keyboard + Cell Phone Stand Holder + Brush for Apple iPhone 5S 5C 5, 4S 4  \\\n",
       "0                                                  0                                                                  \n",
       "1                                                  0                                                                  \n",
       "2                                                  0                                                                  \n",
       "3                                                  0                                                                  \n",
       "4                                                  0                                                                  \n",
       "\n",
       "   Product Name_iOttie HLCRIO102 Car Mount  Product Name_iOttie XL Car Mount  \\\n",
       "0                                        0                                 0   \n",
       "1                                        0                                 0   \n",
       "2                                        0                                 0   \n",
       "3                                        0                                 0   \n",
       "4                                        0                                 0   \n",
       "\n",
       "   Product Name_invisibleSHIELD by ZAGG Smudge-Free Screen Protector  \\\n",
       "0                                                  0                   \n",
       "1                                                  0                   \n",
       "2                                                  0                   \n",
       "3                                                  0                   \n",
       "4                                                  0                   \n",
       "\n",
       "   Product Name_netTALK DUO VoIP Telephone Service  class  \n",
       "0                                                0      0  \n",
       "1                                                0      0  \n",
       "2                                                0      0  \n",
       "3                                                0      0  \n",
       "4                                                0      2  \n",
       "\n",
       "[5 rows x 13776 columns]"
      ]
     },
     "execution_count": 40,
     "metadata": {},
     "output_type": "execute_result"
    }
   ],
   "source": [
    "# Add a new class column to customers\n",
    "Superstore_ML[\"class\"] = model.labels_\n",
    "Superstore_ML.head()"
   ]
  },
  {
   "cell_type": "code",
   "execution_count": 41,
   "id": "04f04411",
   "metadata": {},
   "outputs": [
    {
     "data": {
      "image/png": "[encoded data removed]",
      "text/plain": [
       "<Figure size 432x288 with 1 Axes>"
      ]
     },
     "metadata": {
      "needs_background": "light"
     },
     "output_type": "display_data"
    }
   ],
   "source": [
    "#Customer\n",
    "plt.scatter(x=Superstore_ML[\"Sales\"], y=Superstore_ML['Profit'], c=Superstore_ML['class'])\n",
    "plt.xlabel('Sales')\n",
    "plt.ylabel('Profit')\n",
    "plt.savefig(\"SuperstoreScatter.png\")"
   ]
  },
  {
   "cell_type": "code",
   "execution_count": 89,
   "id": "af14d430",
   "metadata": {},
   "outputs": [
    {
     "data": {
      "image/png": "[encoded data removed]",
      "text/plain": [
       "<Figure size 432x288 with 1 Axes>"
      ]
     },
     "metadata": {
      "needs_background": "light"
     },
     "output_type": "display_data"
    }
   ],
   "source": [
    "plt.scatter(x=Superstore_aggProductNames[\"Profit\"], y=Superstore_aggProductNames['Discount'], c=Superstore_aggProductNames['class'])\n",
    "plt.xlabel('Profit')\n",
    "plt.ylabel('Discount')\n",
    "plt.savefig(\"SuperstoreScatterDiscount.png\")"
   ]
  },
  {
   "cell_type": "code",
   "execution_count": 44,
   "id": "5b1e0a4a",
   "metadata": {},
   "outputs": [],
   "source": [
    "Superstore_ML2 = pd.DataFrame(Superstore_ML)\n",
    "def get_clusters(k, Superstore_ML2):\n",
    "    # Initialize the K-Means model\n",
    "    model = KMeans(n_clusters=k, random_state=0)\n",
    "\n",
    "    # Train the model\n",
    "    model.fit(Superstore_ML2)\n",
    "\n",
    "    # Predict clusters\n",
    "    predictions = model.predict(Superstore_ML2)\n",
    "\n",
    "    # Create return DataFrame with predicted clusters\n",
    "    Superstore_ML2[\"class\"] = model.labels_\n",
    "\n",
    "    return Superstore_ML2"
   ]
  },
  {
   "cell_type": "code",
   "execution_count": 45,
   "id": "b321500c",
   "metadata": {},
   "outputs": [],
   "source": [
    "clusters = get_clusters(3, Superstore_ML2)"
   ]
  },
  {
   "cell_type": "code",
   "execution_count": 92,
   "id": "0a4624de",
   "metadata": {},
   "outputs": [
    {
     "data": {
      "image/png": "[encoded data removed]",
      "text/plain": [
       "<Figure size 432x288 with 1 Axes>"
      ]
     },
     "metadata": {
      "needs_background": "light"
     },
     "output_type": "display_data"
    }
   ],
   "source": [
    "def show_clusters(Superstore_ML2):\n",
    "    plt.scatter(Superstore_ML2['Sales'], Superstore_ML2['Profit'], c=Superstore_ML2['class'])\n",
    "    plt.xlabel('Sales')\n",
    "    plt.ylabel('Profit')\n",
    "plt.show()\n",
    "\n",
    "show_clusters(clusters)\n",
    "plt.savefig(\"SuperstoreScatterML2.png\")"
   ]
  }
 ],
 "metadata": {
  "kernelspec": {
   "display_name": "Python 3",
   "language": "python",
   "name": "python3"
  },
  "language_info": {
   "codemirror_mode": {
    "name": "ipython",
    "version": 3
   },
   "file_extension": ".py",
   "mimetype": "text/x-python",
   "name": "python",
   "nbconvert_exporter": "python",
   "pygments_lexer": "ipython3",
   "version": "3.8.8"
  }
 },
 "nbformat": 4,
 "nbformat_minor": 5
}
