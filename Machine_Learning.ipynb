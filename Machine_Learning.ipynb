{
 "cells": [
  {
   "cell_type": "code",
   "execution_count": 15,
   "id": "fc742814",
   "metadata": {},
   "outputs": [],
   "source": [
    "import matplotlib.pyplot as plt\n",
    "import pandas as pd\n",
    "import numpy as np\n",
    "from sklearn.cluster import KMeans\n",
    "from pathlib import Path\n",
    "from sklearn.preprocessing import StandardScaler"
   ]
  },
  {
   "cell_type": "code",
   "execution_count": 16,
   "id": "e25f6f5e",
   "metadata": {},
   "outputs": [
    {
     "data": {
      "text/html": [
       "<div>\n",
       "<style scoped>\n",
       "    .dataframe tbody tr th:only-of-type {\n",
       "        vertical-align: middle;\n",
       "    }\n",
       "\n",
       "    .dataframe tbody tr th {\n",
       "        vertical-align: top;\n",
       "    }\n",
       "\n",
       "    .dataframe thead th {\n",
       "        text-align: right;\n",
       "    }\n",
       "</style>\n",
       "<table border=\"1\" class=\"dataframe\">\n",
       "  <thead>\n",
       "    <tr style=\"text-align: right;\">\n",
       "      <th></th>\n",
       "      <th>Row ID</th>\n",
       "      <th>Order ID</th>\n",
       "      <th>Order Date</th>\n",
       "      <th>Order Quantity</th>\n",
       "      <th>Sales</th>\n",
       "      <th>Discount</th>\n",
       "      <th>Profit</th>\n",
       "      <th>Unit Price</th>\n",
       "      <th>Customer Name</th>\n",
       "      <th>Country</th>\n",
       "      <th>Region</th>\n",
       "      <th>Customer Segment</th>\n",
       "      <th>Product Category</th>\n",
       "      <th>Product Sub-Category</th>\n",
       "      <th>Product Name</th>\n",
       "    </tr>\n",
       "  </thead>\n",
       "  <tbody>\n",
       "    <tr>\n",
       "      <th>0</th>\n",
       "      <td>43</td>\n",
       "      <td>4132</td>\n",
       "      <td>5/28/2011</td>\n",
       "      <td>5</td>\n",
       "      <td>14.76</td>\n",
       "      <td>0.01</td>\n",
       "      <td>1.32</td>\n",
       "      <td>2.88</td>\n",
       "      <td>Aaron Bergman</td>\n",
       "      <td>CAN</td>\n",
       "      <td>Nunavut</td>\n",
       "      <td>Corporate</td>\n",
       "      <td>Office Supplies</td>\n",
       "      <td>Labels</td>\n",
       "      <td>Avery 49</td>\n",
       "    </tr>\n",
       "    <tr>\n",
       "      <th>1</th>\n",
       "      <td>8234</td>\n",
       "      <td>20513</td>\n",
       "      <td>7/7/2009</td>\n",
       "      <td>13</td>\n",
       "      <td>42.27</td>\n",
       "      <td>0.01</td>\n",
       "      <td>4.56</td>\n",
       "      <td>2.84</td>\n",
       "      <td>Aaron Bergman</td>\n",
       "      <td>CAN</td>\n",
       "      <td>West</td>\n",
       "      <td>Corporate</td>\n",
       "      <td>Office Supplies</td>\n",
       "      <td>Pens &amp; Art Supplies</td>\n",
       "      <td>SANFORD Liquid Accent� Tank-Style Highlighters</td>\n",
       "    </tr>\n",
       "    <tr>\n",
       "      <th>2</th>\n",
       "      <td>8300</td>\n",
       "      <td>36262</td>\n",
       "      <td>7/27/2010</td>\n",
       "      <td>23</td>\n",
       "      <td>164.02</td>\n",
       "      <td>0.03</td>\n",
       "      <td>-47.64</td>\n",
       "      <td>6.68</td>\n",
       "      <td>Aaron Bergman</td>\n",
       "      <td>CAN</td>\n",
       "      <td>West</td>\n",
       "      <td>Corporate</td>\n",
       "      <td>Office Supplies</td>\n",
       "      <td>Paper</td>\n",
       "      <td>Xerox 1968</td>\n",
       "    </tr>\n",
       "    <tr>\n",
       "      <th>3</th>\n",
       "      <td>8301</td>\n",
       "      <td>36262</td>\n",
       "      <td>7/27/2010</td>\n",
       "      <td>23</td>\n",
       "      <td>136.81</td>\n",
       "      <td>0.01</td>\n",
       "      <td>-30.51</td>\n",
       "      <td>5.68</td>\n",
       "      <td>Aaron Bergman</td>\n",
       "      <td>CAN</td>\n",
       "      <td>West</td>\n",
       "      <td>Corporate</td>\n",
       "      <td>Office Supplies</td>\n",
       "      <td>Scissors, Rulers and Trimmers</td>\n",
       "      <td>Acme� Preferred Stainless Steel Scissors</td>\n",
       "    </tr>\n",
       "    <tr>\n",
       "      <th>4</th>\n",
       "      <td>8302</td>\n",
       "      <td>36262</td>\n",
       "      <td>7/27/2010</td>\n",
       "      <td>26</td>\n",
       "      <td>4701.69</td>\n",
       "      <td>0.00</td>\n",
       "      <td>1148.90</td>\n",
       "      <td>205.99</td>\n",
       "      <td>Aaron Bergman</td>\n",
       "      <td>CAN</td>\n",
       "      <td>West</td>\n",
       "      <td>Corporate</td>\n",
       "      <td>Technology</td>\n",
       "      <td>Telephones and Communication</td>\n",
       "      <td>V70</td>\n",
       "    </tr>\n",
       "  </tbody>\n",
       "</table>\n",
       "</div>"
      ],
      "text/plain": [
       "   Row ID Order ID Order Date  Order Quantity    Sales  Discount   Profit  \\\n",
       "0      43     4132  5/28/2011               5    14.76      0.01     1.32   \n",
       "1    8234    20513   7/7/2009              13    42.27      0.01     4.56   \n",
       "2    8300    36262  7/27/2010              23   164.02      0.03   -47.64   \n",
       "3    8301    36262  7/27/2010              23   136.81      0.01   -30.51   \n",
       "4    8302    36262  7/27/2010              26  4701.69      0.00  1148.90   \n",
       "\n",
       "   Unit Price  Customer Name Country   Region Customer Segment  \\\n",
       "0        2.88  Aaron Bergman     CAN  Nunavut        Corporate   \n",
       "1        2.84  Aaron Bergman     CAN     West        Corporate   \n",
       "2        6.68  Aaron Bergman     CAN     West        Corporate   \n",
       "3        5.68  Aaron Bergman     CAN     West        Corporate   \n",
       "4      205.99  Aaron Bergman     CAN     West        Corporate   \n",
       "\n",
       "  Product Category           Product Sub-Category  \\\n",
       "0  Office Supplies                         Labels   \n",
       "1  Office Supplies            Pens & Art Supplies   \n",
       "2  Office Supplies                          Paper   \n",
       "3  Office Supplies  Scissors, Rulers and Trimmers   \n",
       "4       Technology   Telephones and Communication   \n",
       "\n",
       "                                     Product Name  \n",
       "0                                        Avery 49  \n",
       "1  SANFORD Liquid Accent� Tank-Style Highlighters  \n",
       "2                                      Xerox 1968  \n",
       "3        Acme� Preferred Stainless Steel Scissors  \n",
       "4                                             V70  "
      ]
     },
     "execution_count": 16,
     "metadata": {},
     "output_type": "execute_result"
    }
   ],
   "source": [
    "# Loading data\n",
    "file_path = Path(\"Superstore_merged_clean.csv\")\n",
    "Superstore = pd.read_csv(file_path)\n",
    "Superstore.head()"
   ]
  },
  {
   "cell_type": "code",
   "execution_count": 17,
   "id": "763a844c",
   "metadata": {},
   "outputs": [
    {
     "name": "stdout",
     "output_type": "stream",
     "text": [
      "<class 'pandas.core.frame.DataFrame'>\n",
      "RangeIndex: 18393 entries, 0 to 18392\n",
      "Data columns (total 15 columns):\n",
      " #   Column                Non-Null Count  Dtype  \n",
      "---  ------                --------------  -----  \n",
      " 0   Row ID                18393 non-null  int64  \n",
      " 1   Order ID              18393 non-null  object \n",
      " 2   Order Date            18393 non-null  object \n",
      " 3   Order Quantity        18393 non-null  int64  \n",
      " 4   Sales                 18393 non-null  float64\n",
      " 5   Discount              18393 non-null  float64\n",
      " 6   Profit                18393 non-null  float64\n",
      " 7   Unit Price            18393 non-null  float64\n",
      " 8   Customer Name         18393 non-null  object \n",
      " 9   Country               18393 non-null  object \n",
      " 10  Region                18393 non-null  object \n",
      " 11  Customer Segment      18393 non-null  object \n",
      " 12  Product Category      18393 non-null  object \n",
      " 13  Product Sub-Category  18393 non-null  object \n",
      " 14  Product Name          18393 non-null  object \n",
      "dtypes: float64(4), int64(2), object(9)\n",
      "memory usage: 2.1+ MB\n"
     ]
    }
   ],
   "source": [
    "Superstore.info()"
   ]
  },
  {
   "cell_type": "code",
   "execution_count": 18,
   "id": "1f2c9611",
   "metadata": {},
   "outputs": [
    {
     "data": {
      "text/html": [
       "<div>\n",
       "<style scoped>\n",
       "    .dataframe tbody tr th:only-of-type {\n",
       "        vertical-align: middle;\n",
       "    }\n",
       "\n",
       "    .dataframe tbody tr th {\n",
       "        vertical-align: top;\n",
       "    }\n",
       "\n",
       "    .dataframe thead th {\n",
       "        text-align: right;\n",
       "    }\n",
       "</style>\n",
       "<table border=\"1\" class=\"dataframe\">\n",
       "  <thead>\n",
       "    <tr style=\"text-align: right;\">\n",
       "      <th></th>\n",
       "      <th>Row ID</th>\n",
       "      <th>Order Quantity</th>\n",
       "      <th>Sales</th>\n",
       "      <th>Discount</th>\n",
       "      <th>Profit</th>\n",
       "      <th>Unit Price</th>\n",
       "    </tr>\n",
       "    <tr>\n",
       "      <th>Customer Name</th>\n",
       "      <th></th>\n",
       "      <th></th>\n",
       "      <th></th>\n",
       "      <th></th>\n",
       "      <th></th>\n",
       "      <th></th>\n",
       "    </tr>\n",
       "  </thead>\n",
       "  <tbody>\n",
       "    <tr>\n",
       "      <th>Aaron Bergman</th>\n",
       "      <td>100244</td>\n",
       "      <td>181</td>\n",
       "      <td>12516.7460</td>\n",
       "      <td>0.63</td>\n",
       "      <td>3155.1865</td>\n",
       "      <td>824.474</td>\n",
       "    </tr>\n",
       "    <tr>\n",
       "      <th>Aaron Hawkins</th>\n",
       "      <td>155507</td>\n",
       "      <td>424</td>\n",
       "      <td>29435.4255</td>\n",
       "      <td>1.68</td>\n",
       "      <td>6326.6252</td>\n",
       "      <td>1537.064</td>\n",
       "    </tr>\n",
       "    <tr>\n",
       "      <th>Aaron Smayling</th>\n",
       "      <td>124661</td>\n",
       "      <td>351</td>\n",
       "      <td>11886.0155</td>\n",
       "      <td>4.15</td>\n",
       "      <td>1860.8254</td>\n",
       "      <td>1459.530</td>\n",
       "    </tr>\n",
       "    <tr>\n",
       "      <th>Adam Bellavance</th>\n",
       "      <td>225496</td>\n",
       "      <td>389</td>\n",
       "      <td>19333.2000</td>\n",
       "      <td>1.34</td>\n",
       "      <td>1872.6485</td>\n",
       "      <td>2345.278</td>\n",
       "    </tr>\n",
       "    <tr>\n",
       "      <th>Adam Hart</th>\n",
       "      <td>355455</td>\n",
       "      <td>581</td>\n",
       "      <td>29364.6015</td>\n",
       "      <td>4.17</td>\n",
       "      <td>4353.0290</td>\n",
       "      <td>2571.345</td>\n",
       "    </tr>\n",
       "    <tr>\n",
       "      <th>...</th>\n",
       "      <td>...</td>\n",
       "      <td>...</td>\n",
       "      <td>...</td>\n",
       "      <td>...</td>\n",
       "      <td>...</td>\n",
       "      <td>...</td>\n",
       "    </tr>\n",
       "    <tr>\n",
       "      <th>Xylona Price</th>\n",
       "      <td>56614</td>\n",
       "      <td>374</td>\n",
       "      <td>18037.0855</td>\n",
       "      <td>0.60</td>\n",
       "      <td>1124.2200</td>\n",
       "      <td>764.600</td>\n",
       "    </tr>\n",
       "    <tr>\n",
       "      <th>Yana Sorensen</th>\n",
       "      <td>130792</td>\n",
       "      <td>211</td>\n",
       "      <td>8707.6040</td>\n",
       "      <td>0.82</td>\n",
       "      <td>1516.7623</td>\n",
       "      <td>1350.620</td>\n",
       "    </tr>\n",
       "    <tr>\n",
       "      <th>Yoseph Carroll</th>\n",
       "      <td>141169</td>\n",
       "      <td>307</td>\n",
       "      <td>15989.6680</td>\n",
       "      <td>1.09</td>\n",
       "      <td>2050.2990</td>\n",
       "      <td>1916.154</td>\n",
       "    </tr>\n",
       "    <tr>\n",
       "      <th>Zuschuss Carroll</th>\n",
       "      <td>260338</td>\n",
       "      <td>105</td>\n",
       "      <td>8025.7070</td>\n",
       "      <td>7.90</td>\n",
       "      <td>-1032.1490</td>\n",
       "      <td>1828.692</td>\n",
       "    </tr>\n",
       "    <tr>\n",
       "      <th>Zuschuss Donatelli</th>\n",
       "      <td>75582</td>\n",
       "      <td>32</td>\n",
       "      <td>1493.9440</td>\n",
       "      <td>1.00</td>\n",
       "      <td>249.1307</td>\n",
       "      <td>360.498</td>\n",
       "    </tr>\n",
       "  </tbody>\n",
       "</table>\n",
       "<p>834 rows × 6 columns</p>\n",
       "</div>"
      ],
      "text/plain": [
       "                    Row ID  Order Quantity       Sales  Discount     Profit  \\\n",
       "Customer Name                                                                 \n",
       "Aaron Bergman       100244             181  12516.7460      0.63  3155.1865   \n",
       "Aaron Hawkins       155507             424  29435.4255      1.68  6326.6252   \n",
       "Aaron Smayling      124661             351  11886.0155      4.15  1860.8254   \n",
       "Adam Bellavance     225496             389  19333.2000      1.34  1872.6485   \n",
       "Adam Hart           355455             581  29364.6015      4.17  4353.0290   \n",
       "...                    ...             ...         ...       ...        ...   \n",
       "Xylona Price         56614             374  18037.0855      0.60  1124.2200   \n",
       "Yana Sorensen       130792             211   8707.6040      0.82  1516.7623   \n",
       "Yoseph Carroll      141169             307  15989.6680      1.09  2050.2990   \n",
       "Zuschuss Carroll    260338             105   8025.7070      7.90 -1032.1490   \n",
       "Zuschuss Donatelli   75582              32   1493.9440      1.00   249.1307   \n",
       "\n",
       "                    Unit Price  \n",
       "Customer Name                   \n",
       "Aaron Bergman          824.474  \n",
       "Aaron Hawkins         1537.064  \n",
       "Aaron Smayling        1459.530  \n",
       "Adam Bellavance       2345.278  \n",
       "Adam Hart             2571.345  \n",
       "...                        ...  \n",
       "Xylona Price           764.600  \n",
       "Yana Sorensen         1350.620  \n",
       "Yoseph Carroll        1916.154  \n",
       "Zuschuss Carroll      1828.692  \n",
       "Zuschuss Donatelli     360.498  \n",
       "\n",
       "[834 rows x 6 columns]"
      ]
     },
     "execution_count": 18,
     "metadata": {},
     "output_type": "execute_result"
    }
   ],
   "source": [
    "Superstore_agg = Superstore.groupby('Customer Name').sum()\n",
    "\n",
    "Superstore_agg\n"
   ]
  },
  {
   "cell_type": "code",
   "execution_count": 61,
   "id": "fe4e0c9b",
   "metadata": {},
   "outputs": [
    {
     "data": {
      "text/html": [
       "<div>\n",
       "<style scoped>\n",
       "    .dataframe tbody tr th:only-of-type {\n",
       "        vertical-align: middle;\n",
       "    }\n",
       "\n",
       "    .dataframe tbody tr th {\n",
       "        vertical-align: top;\n",
       "    }\n",
       "\n",
       "    .dataframe thead th {\n",
       "        text-align: right;\n",
       "    }\n",
       "</style>\n",
       "<table border=\"1\" class=\"dataframe\">\n",
       "  <thead>\n",
       "    <tr style=\"text-align: right;\">\n",
       "      <th></th>\n",
       "      <th>Row ID</th>\n",
       "      <th>Order Quantity</th>\n",
       "      <th>Sales</th>\n",
       "      <th>Discount</th>\n",
       "      <th>Profit</th>\n",
       "      <th>Unit Price</th>\n",
       "    </tr>\n",
       "    <tr>\n",
       "      <th>Product Sub-Category</th>\n",
       "      <th></th>\n",
       "      <th></th>\n",
       "      <th></th>\n",
       "      <th></th>\n",
       "      <th></th>\n",
       "      <th></th>\n",
       "    </tr>\n",
       "  </thead>\n",
       "  <tbody>\n",
       "    <tr>\n",
       "      <th>Accessories</th>\n",
       "      <td>6508450</td>\n",
       "      <td>2976</td>\n",
       "      <td>1.673803e+05</td>\n",
       "      <td>60.80</td>\n",
       "      <td>41936.6357</td>\n",
       "      <td>42901.3880</td>\n",
       "    </tr>\n",
       "    <tr>\n",
       "      <th>Appliances</th>\n",
       "      <td>5713317</td>\n",
       "      <td>12630</td>\n",
       "      <td>8.445237e+05</td>\n",
       "      <td>99.58</td>\n",
       "      <td>115296.0654</td>\n",
       "      <td>59773.9750</td>\n",
       "    </tr>\n",
       "    <tr>\n",
       "      <th>Art</th>\n",
       "      <td>6684808</td>\n",
       "      <td>3000</td>\n",
       "      <td>2.711879e+04</td>\n",
       "      <td>59.60</td>\n",
       "      <td>6527.7870</td>\n",
       "      <td>7019.1880</td>\n",
       "    </tr>\n",
       "    <tr>\n",
       "      <th>Binders</th>\n",
       "      <td>12790154</td>\n",
       "      <td>5974</td>\n",
       "      <td>2.034127e+05</td>\n",
       "      <td>567.00</td>\n",
       "      <td>30221.7633</td>\n",
       "      <td>55851.8810</td>\n",
       "    </tr>\n",
       "    <tr>\n",
       "      <th>Binders and Binder Accessories</th>\n",
       "      <td>3761415</td>\n",
       "      <td>22992</td>\n",
       "      <td>1.022958e+06</td>\n",
       "      <td>46.10</td>\n",
       "      <td>307413.3900</td>\n",
       "      <td>52706.1800</td>\n",
       "    </tr>\n",
       "    <tr>\n",
       "      <th>Bookcases</th>\n",
       "      <td>2702712</td>\n",
       "      <td>5759</td>\n",
       "      <td>9.375320e+05</td>\n",
       "      <td>57.23</td>\n",
       "      <td>-37054.6860</td>\n",
       "      <td>62556.6346</td>\n",
       "    </tr>\n",
       "    <tr>\n",
       "      <th>Chairs</th>\n",
       "      <td>5181566</td>\n",
       "      <td>2356</td>\n",
       "      <td>3.284491e+05</td>\n",
       "      <td>105.00</td>\n",
       "      <td>26590.1663</td>\n",
       "      <td>85641.1250</td>\n",
       "    </tr>\n",
       "    <tr>\n",
       "      <th>Chairs &amp; Chairmats</th>\n",
       "      <td>1483623</td>\n",
       "      <td>9590</td>\n",
       "      <td>1.761837e+06</td>\n",
       "      <td>19.42</td>\n",
       "      <td>149649.7300</td>\n",
       "      <td>70691.1300</td>\n",
       "    </tr>\n",
       "    <tr>\n",
       "      <th>Computer Peripherals</th>\n",
       "      <td>3125846</td>\n",
       "      <td>19222</td>\n",
       "      <td>7.958759e+05</td>\n",
       "      <td>36.82</td>\n",
       "      <td>94287.4800</td>\n",
       "      <td>32218.2300</td>\n",
       "    </tr>\n",
       "    <tr>\n",
       "      <th>Copiers</th>\n",
       "      <td>571064</td>\n",
       "      <td>234</td>\n",
       "      <td>1.495280e+05</td>\n",
       "      <td>11.00</td>\n",
       "      <td>55617.8249</td>\n",
       "      <td>40869.4300</td>\n",
       "    </tr>\n",
       "    <tr>\n",
       "      <th>Copiers and Fax</th>\n",
       "      <td>372607</td>\n",
       "      <td>2128</td>\n",
       "      <td>1.130361e+06</td>\n",
       "      <td>4.48</td>\n",
       "      <td>167361.4900</td>\n",
       "      <td>64899.1300</td>\n",
       "    </tr>\n",
       "    <tr>\n",
       "      <th>Envelopes</th>\n",
       "      <td>3175304</td>\n",
       "      <td>7484</td>\n",
       "      <td>1.905622e+05</td>\n",
       "      <td>32.42</td>\n",
       "      <td>55146.7767</td>\n",
       "      <td>11240.0500</td>\n",
       "    </tr>\n",
       "    <tr>\n",
       "      <th>Fasteners</th>\n",
       "      <td>1822366</td>\n",
       "      <td>914</td>\n",
       "      <td>3.024280e+03</td>\n",
       "      <td>17.80</td>\n",
       "      <td>949.5182</td>\n",
       "      <td>713.6600</td>\n",
       "    </tr>\n",
       "    <tr>\n",
       "      <th>Furnishings</th>\n",
       "      <td>8036886</td>\n",
       "      <td>3563</td>\n",
       "      <td>9.170516e+04</td>\n",
       "      <td>132.40</td>\n",
       "      <td>13059.1436</td>\n",
       "      <td>24506.2940</td>\n",
       "    </tr>\n",
       "    <tr>\n",
       "      <th>Labels</th>\n",
       "      <td>4296619</td>\n",
       "      <td>8701</td>\n",
       "      <td>5.146786e+04</td>\n",
       "      <td>39.27</td>\n",
       "      <td>19223.4240</td>\n",
       "      <td>4614.6140</td>\n",
       "    </tr>\n",
       "    <tr>\n",
       "      <th>Machines</th>\n",
       "      <td>965770</td>\n",
       "      <td>440</td>\n",
       "      <td>1.892386e+05</td>\n",
       "      <td>35.20</td>\n",
       "      <td>3384.7569</td>\n",
       "      <td>48685.5340</td>\n",
       "    </tr>\n",
       "    <tr>\n",
       "      <th>Office Furnishings</th>\n",
       "      <td>3173533</td>\n",
       "      <td>20648</td>\n",
       "      <td>6.980938e+05</td>\n",
       "      <td>38.46</td>\n",
       "      <td>100427.9300</td>\n",
       "      <td>26263.8100</td>\n",
       "    </tr>\n",
       "    <tr>\n",
       "      <th>Office Machines</th>\n",
       "      <td>1455912</td>\n",
       "      <td>7856</td>\n",
       "      <td>2.168697e+06</td>\n",
       "      <td>17.02</td>\n",
       "      <td>307712.9300</td>\n",
       "      <td>190647.4700</td>\n",
       "    </tr>\n",
       "    <tr>\n",
       "      <th>Paper</th>\n",
       "      <td>16778077</td>\n",
       "      <td>36049</td>\n",
       "      <td>5.249321e+05</td>\n",
       "      <td>163.13</td>\n",
       "      <td>79316.7693</td>\n",
       "      <td>38995.1620</td>\n",
       "    </tr>\n",
       "    <tr>\n",
       "      <th>Pens &amp; Art Supplies</th>\n",
       "      <td>2734476</td>\n",
       "      <td>16980</td>\n",
       "      <td>1.671072e+05</td>\n",
       "      <td>32.46</td>\n",
       "      <td>7564.7800</td>\n",
       "      <td>6087.9700</td>\n",
       "    </tr>\n",
       "    <tr>\n",
       "      <th>Phones</th>\n",
       "      <td>7465822</td>\n",
       "      <td>3289</td>\n",
       "      <td>3.300071e+05</td>\n",
       "      <td>137.40</td>\n",
       "      <td>44515.7306</td>\n",
       "      <td>89902.7860</td>\n",
       "    </tr>\n",
       "    <tr>\n",
       "      <th>Rubber Bands</th>\n",
       "      <td>743081</td>\n",
       "      <td>4920</td>\n",
       "      <td>1.500663e+04</td>\n",
       "      <td>9.22</td>\n",
       "      <td>-102.6700</td>\n",
       "      <td>538.9500</td>\n",
       "    </tr>\n",
       "    <tr>\n",
       "      <th>Scissors, Rulers and Trimmers</th>\n",
       "      <td>609707</td>\n",
       "      <td>3931</td>\n",
       "      <td>8.099631e+04</td>\n",
       "      <td>7.09</td>\n",
       "      <td>-7799.2500</td>\n",
       "      <td>6101.4900</td>\n",
       "    </tr>\n",
       "    <tr>\n",
       "      <th>Storage</th>\n",
       "      <td>7104708</td>\n",
       "      <td>3158</td>\n",
       "      <td>2.238436e+05</td>\n",
       "      <td>63.20</td>\n",
       "      <td>21278.8264</td>\n",
       "      <td>59601.9340</td>\n",
       "    </tr>\n",
       "    <tr>\n",
       "      <th>Storage &amp; Organization</th>\n",
       "      <td>2282694</td>\n",
       "      <td>13804</td>\n",
       "      <td>1.070183e+06</td>\n",
       "      <td>27.89</td>\n",
       "      <td>6664.1500</td>\n",
       "      <td>43624.3100</td>\n",
       "    </tr>\n",
       "    <tr>\n",
       "      <th>Supplies</th>\n",
       "      <td>1595620</td>\n",
       "      <td>647</td>\n",
       "      <td>4.667354e+04</td>\n",
       "      <td>14.60</td>\n",
       "      <td>-1189.0995</td>\n",
       "      <td>13168.5400</td>\n",
       "    </tr>\n",
       "    <tr>\n",
       "      <th>Tables</th>\n",
       "      <td>4263962</td>\n",
       "      <td>10436</td>\n",
       "      <td>2.102974e+06</td>\n",
       "      <td>101.35</td>\n",
       "      <td>-116787.9811</td>\n",
       "      <td>132584.3675</td>\n",
       "    </tr>\n",
       "    <tr>\n",
       "      <th>Telephones and Communication</th>\n",
       "      <td>3796914</td>\n",
       "      <td>22969</td>\n",
       "      <td>1.889314e+06</td>\n",
       "      <td>42.34</td>\n",
       "      <td>316951.6200</td>\n",
       "      <td>86844.1700</td>\n",
       "    </tr>\n",
       "  </tbody>\n",
       "</table>\n",
       "</div>"
      ],
      "text/plain": [
       "                                  Row ID  Order Quantity         Sales  \\\n",
       "Product Sub-Category                                                     \n",
       "Accessories                      6508450            2976  1.673803e+05   \n",
       "Appliances                       5713317           12630  8.445237e+05   \n",
       "Art                              6684808            3000  2.711879e+04   \n",
       "Binders                         12790154            5974  2.034127e+05   \n",
       "Binders and Binder Accessories   3761415           22992  1.022958e+06   \n",
       "Bookcases                        2702712            5759  9.375320e+05   \n",
       "Chairs                           5181566            2356  3.284491e+05   \n",
       "Chairs & Chairmats               1483623            9590  1.761837e+06   \n",
       "Computer Peripherals             3125846           19222  7.958759e+05   \n",
       "Copiers                           571064             234  1.495280e+05   \n",
       "Copiers and Fax                   372607            2128  1.130361e+06   \n",
       "Envelopes                        3175304            7484  1.905622e+05   \n",
       "Fasteners                        1822366             914  3.024280e+03   \n",
       "Furnishings                      8036886            3563  9.170516e+04   \n",
       "Labels                           4296619            8701  5.146786e+04   \n",
       "Machines                          965770             440  1.892386e+05   \n",
       "Office Furnishings               3173533           20648  6.980938e+05   \n",
       "Office Machines                  1455912            7856  2.168697e+06   \n",
       "Paper                           16778077           36049  5.249321e+05   \n",
       "Pens & Art Supplies              2734476           16980  1.671072e+05   \n",
       "Phones                           7465822            3289  3.300071e+05   \n",
       "Rubber Bands                      743081            4920  1.500663e+04   \n",
       "Scissors, Rulers and Trimmers     609707            3931  8.099631e+04   \n",
       "Storage                          7104708            3158  2.238436e+05   \n",
       "Storage & Organization           2282694           13804  1.070183e+06   \n",
       "Supplies                         1595620             647  4.667354e+04   \n",
       "Tables                           4263962           10436  2.102974e+06   \n",
       "Telephones and Communication     3796914           22969  1.889314e+06   \n",
       "\n",
       "                                Discount       Profit   Unit Price  \n",
       "Product Sub-Category                                                \n",
       "Accessories                        60.80   41936.6357   42901.3880  \n",
       "Appliances                         99.58  115296.0654   59773.9750  \n",
       "Art                                59.60    6527.7870    7019.1880  \n",
       "Binders                           567.00   30221.7633   55851.8810  \n",
       "Binders and Binder Accessories     46.10  307413.3900   52706.1800  \n",
       "Bookcases                          57.23  -37054.6860   62556.6346  \n",
       "Chairs                            105.00   26590.1663   85641.1250  \n",
       "Chairs & Chairmats                 19.42  149649.7300   70691.1300  \n",
       "Computer Peripherals               36.82   94287.4800   32218.2300  \n",
       "Copiers                            11.00   55617.8249   40869.4300  \n",
       "Copiers and Fax                     4.48  167361.4900   64899.1300  \n",
       "Envelopes                          32.42   55146.7767   11240.0500  \n",
       "Fasteners                          17.80     949.5182     713.6600  \n",
       "Furnishings                       132.40   13059.1436   24506.2940  \n",
       "Labels                             39.27   19223.4240    4614.6140  \n",
       "Machines                           35.20    3384.7569   48685.5340  \n",
       "Office Furnishings                 38.46  100427.9300   26263.8100  \n",
       "Office Machines                    17.02  307712.9300  190647.4700  \n",
       "Paper                             163.13   79316.7693   38995.1620  \n",
       "Pens & Art Supplies                32.46    7564.7800    6087.9700  \n",
       "Phones                            137.40   44515.7306   89902.7860  \n",
       "Rubber Bands                        9.22    -102.6700     538.9500  \n",
       "Scissors, Rulers and Trimmers       7.09   -7799.2500    6101.4900  \n",
       "Storage                            63.20   21278.8264   59601.9340  \n",
       "Storage & Organization             27.89    6664.1500   43624.3100  \n",
       "Supplies                           14.60   -1189.0995   13168.5400  \n",
       "Tables                            101.35 -116787.9811  132584.3675  \n",
       "Telephones and Communication       42.34  316951.6200   86844.1700  "
      ]
     },
     "execution_count": 61,
     "metadata": {},
     "output_type": "execute_result"
    }
   ],
   "source": [
    "Superstore_aggProduct = Superstore.groupby('Product Sub-Category').sum()\n",
    "Superstore_aggProduct"
   ]
  },
  {
   "cell_type": "code",
   "execution_count": 62,
   "id": "72d03d2a",
   "metadata": {},
   "outputs": [],
   "source": [
    "Superstore_aggProduct = Superstore_aggProduct.drop(columns=['Row ID'])"
   ]
  },
  {
   "cell_type": "code",
   "execution_count": 63,
   "id": "9b4a8d3c",
   "metadata": {},
   "outputs": [],
   "source": [
    "Superstore_aggProduct = pd.get_dummies(Superstore_aggProduct)"
   ]
  },
  {
   "cell_type": "code",
   "execution_count": 64,
   "id": "10e31812",
   "metadata": {},
   "outputs": [],
   "source": [
    "# Initializing model with K = 3 \n",
    "model = KMeans(n_clusters=3, random_state=5)"
   ]
  },
  {
   "cell_type": "code",
   "execution_count": 65,
   "id": "79a26c00",
   "metadata": {},
   "outputs": [
    {
     "data": {
      "text/plain": [
       "KMeans(n_clusters=3, random_state=5)"
      ]
     },
     "execution_count": 65,
     "metadata": {},
     "output_type": "execute_result"
    }
   ],
   "source": [
    "model.fit(Superstore_aggProduct)"
   ]
  },
  {
   "cell_type": "code",
   "execution_count": 67,
   "id": "5c1028ee",
   "metadata": {},
   "outputs": [
    {
     "name": "stdout",
     "output_type": "stream",
     "text": [
      "[0 2 0 0 2 2 0 1 2 0 2 0 0 0 0 0 2 1 0 0 0 0 0 0 2 0 1 1]\n"
     ]
    }
   ],
   "source": [
    "# Get predictions\n",
    "predictions = model.predict(Superstore_aggProduct)\n",
    "print(predictions)"
   ]
  },
  {
   "cell_type": "code",
   "execution_count": 68,
   "id": "6005d56e",
   "metadata": {},
   "outputs": [
    {
     "data": {
      "text/html": [
       "<div>\n",
       "<style scoped>\n",
       "    .dataframe tbody tr th:only-of-type {\n",
       "        vertical-align: middle;\n",
       "    }\n",
       "\n",
       "    .dataframe tbody tr th {\n",
       "        vertical-align: top;\n",
       "    }\n",
       "\n",
       "    .dataframe thead th {\n",
       "        text-align: right;\n",
       "    }\n",
       "</style>\n",
       "<table border=\"1\" class=\"dataframe\">\n",
       "  <thead>\n",
       "    <tr style=\"text-align: right;\">\n",
       "      <th></th>\n",
       "      <th>Order Quantity</th>\n",
       "      <th>Sales</th>\n",
       "      <th>Discount</th>\n",
       "      <th>Profit</th>\n",
       "      <th>Unit Price</th>\n",
       "      <th>class</th>\n",
       "    </tr>\n",
       "    <tr>\n",
       "      <th>Product Sub-Category</th>\n",
       "      <th></th>\n",
       "      <th></th>\n",
       "      <th></th>\n",
       "      <th></th>\n",
       "      <th></th>\n",
       "      <th></th>\n",
       "    </tr>\n",
       "  </thead>\n",
       "  <tbody>\n",
       "    <tr>\n",
       "      <th>Accessories</th>\n",
       "      <td>2976</td>\n",
       "      <td>167380.318</td>\n",
       "      <td>60.80</td>\n",
       "      <td>41936.6357</td>\n",
       "      <td>42901.388</td>\n",
       "      <td>0</td>\n",
       "    </tr>\n",
       "    <tr>\n",
       "      <th>Appliances</th>\n",
       "      <td>12630</td>\n",
       "      <td>844523.701</td>\n",
       "      <td>99.58</td>\n",
       "      <td>115296.0654</td>\n",
       "      <td>59773.975</td>\n",
       "      <td>2</td>\n",
       "    </tr>\n",
       "    <tr>\n",
       "      <th>Art</th>\n",
       "      <td>3000</td>\n",
       "      <td>27118.792</td>\n",
       "      <td>59.60</td>\n",
       "      <td>6527.7870</td>\n",
       "      <td>7019.188</td>\n",
       "      <td>0</td>\n",
       "    </tr>\n",
       "    <tr>\n",
       "      <th>Binders</th>\n",
       "      <td>5974</td>\n",
       "      <td>203412.733</td>\n",
       "      <td>567.00</td>\n",
       "      <td>30221.7633</td>\n",
       "      <td>55851.881</td>\n",
       "      <td>0</td>\n",
       "    </tr>\n",
       "    <tr>\n",
       "      <th>Binders and Binder Accessories</th>\n",
       "      <td>22992</td>\n",
       "      <td>1022957.590</td>\n",
       "      <td>46.10</td>\n",
       "      <td>307413.3900</td>\n",
       "      <td>52706.180</td>\n",
       "      <td>2</td>\n",
       "    </tr>\n",
       "  </tbody>\n",
       "</table>\n",
       "</div>"
      ],
      "text/plain": [
       "                                Order Quantity        Sales  Discount  \\\n",
       "Product Sub-Category                                                    \n",
       "Accessories                               2976   167380.318     60.80   \n",
       "Appliances                               12630   844523.701     99.58   \n",
       "Art                                       3000    27118.792     59.60   \n",
       "Binders                                   5974   203412.733    567.00   \n",
       "Binders and Binder Accessories           22992  1022957.590     46.10   \n",
       "\n",
       "                                     Profit  Unit Price  class  \n",
       "Product Sub-Category                                            \n",
       "Accessories                      41936.6357   42901.388      0  \n",
       "Appliances                      115296.0654   59773.975      2  \n",
       "Art                               6527.7870    7019.188      0  \n",
       "Binders                          30221.7633   55851.881      0  \n",
       "Binders and Binder Accessories  307413.3900   52706.180      2  "
      ]
     },
     "execution_count": 68,
     "metadata": {},
     "output_type": "execute_result"
    }
   ],
   "source": [
    "Superstore_aggProduct[\"class\"] = model.labels_\n",
    "Superstore_aggProduct.head()"
   ]
  },
  {
   "cell_type": "code",
   "execution_count": 69,
   "id": "0a528dbd",
   "metadata": {},
   "outputs": [
    {
     "name": "stderr",
     "output_type": "stream",
     "text": [
      "C:\\MyPrograms\\Anaconda3\\lib\\site-packages\\sklearn\\cluster\\_kmeans.py:881: UserWarning: KMeans is known to have a memory leak on Windows with MKL, when there are less chunks than available threads. You can avoid it by setting the environment variable OMP_NUM_THREADS=1.\n",
      "  warnings.warn(\n"
     ]
    },
    {
     "data": {
      "image/png": "[encoded data removed]",
      "text/plain": [
       "<Figure size 432x288 with 1 Axes>"
      ]
     },
     "metadata": {
      "needs_background": "light"
     },
     "output_type": "display_data"
    }
   ],
   "source": [
    "inertia = []\n",
    "# Same as k = list(range(1, 11))\n",
    "k = [1,2,3,4,5,6,7,8,9,10]\n",
    "\n",
    "\n",
    "# Looking for the best k\n",
    "for i in k:\n",
    "    km = KMeans(n_clusters=i, random_state=0)\n",
    "    km.fit(Superstore_aggProduct)\n",
    "    inertia.append(km.inertia_)\n",
    "\n",
    "# Define a DataFrame to plot the Elbow Curve using hvPlot\n",
    "elbow_data_agg_Product = {\"k\": k, \"inertia\": inertia}\n",
    "df_elbow_agg_Product = pd.DataFrame(elbow_data_agg_Product)\n",
    "\n",
    "plt.plot(df_elbow_agg_Product['k'], df_elbow_agg_Product['inertia'])\n",
    "plt.xticks(range(1,11))\n",
    "plt.xlabel('Number of clusters')\n",
    "plt.ylabel('Inertia')\n",
    "plt.savefig('Superstore_MLelbowProduct.png')"
   ]
  },
  {
   "cell_type": "code",
   "execution_count": 72,
   "id": "9df67e01",
   "metadata": {},
   "outputs": [
    {
     "data": {
      "image/png": "[encoded data removed]",
      "text/plain": [
       "<Figure size 432x288 with 1 Axes>"
      ]
     },
     "metadata": {
      "needs_background": "light"
     },
     "output_type": "display_data"
    }
   ],
   "source": [
    "#agg\n",
    "plt.scatter(x=Superstore_aggProduct[\"Order Quantity\"], y=Superstore_aggProduct['Profit'], c=Superstore_aggProduct['class'])\n",
    "plt.xlabel('Order Quantity')\n",
    "plt.ylabel('Profit')\n",
    "plt.savefig(\"SuperstoreScatteraggProductQuantity.png\")"
   ]
  },
  {
   "cell_type": "code",
   "execution_count": 48,
   "id": "81beecda",
   "metadata": {},
   "outputs": [
    {
     "name": "stdout",
     "output_type": "stream",
     "text": [
      "<class 'pandas.core.frame.DataFrame'>\n",
      "Index: 834 entries, Aaron Bergman to Zuschuss Donatelli\n",
      "Data columns (total 6 columns):\n",
      " #   Column          Non-Null Count  Dtype  \n",
      "---  ------          --------------  -----  \n",
      " 0   Row ID          834 non-null    int64  \n",
      " 1   Order Quantity  834 non-null    int64  \n",
      " 2   Sales           834 non-null    float64\n",
      " 3   Discount        834 non-null    float64\n",
      " 4   Profit          834 non-null    float64\n",
      " 5   Unit Price      834 non-null    float64\n",
      "dtypes: float64(4), int64(2)\n",
      "memory usage: 45.6+ KB\n"
     ]
    }
   ],
   "source": [
    "Superstore_agg.info()"
   ]
  },
  {
   "cell_type": "code",
   "execution_count": 49,
   "id": "563aa099",
   "metadata": {},
   "outputs": [],
   "source": [
    "Superstore_agg = Superstore_agg.drop(columns=['Row ID'])"
   ]
  },
  {
   "cell_type": "code",
   "execution_count": 50,
   "id": "d39aa6cd",
   "metadata": {},
   "outputs": [],
   "source": [
    "Superstore_agg = pd.get_dummies(Superstore_agg)"
   ]
  },
  {
   "cell_type": "code",
   "execution_count": 51,
   "id": "ab0ed359",
   "metadata": {},
   "outputs": [],
   "source": [
    "# Initializing model with K = 3 \n",
    "model = KMeans(n_clusters=3, random_state=5)"
   ]
  },
  {
   "cell_type": "code",
   "execution_count": 52,
   "id": "1aef9725",
   "metadata": {},
   "outputs": [
    {
     "data": {
      "text/plain": [
       "KMeans(n_clusters=3, random_state=5)"
      ]
     },
     "execution_count": 52,
     "metadata": {},
     "output_type": "execute_result"
    }
   ],
   "source": [
    "model.fit(Superstore_agg)"
   ]
  },
  {
   "cell_type": "code",
   "execution_count": 19,
   "id": "23237a4c",
   "metadata": {},
   "outputs": [
    {
     "name": "stdout",
     "output_type": "stream",
     "text": [
      "<class 'pandas.core.frame.DataFrame'>\n",
      "RangeIndex: 18393 entries, 0 to 18392\n",
      "Data columns (total 15 columns):\n",
      " #   Column                Non-Null Count  Dtype  \n",
      "---  ------                --------------  -----  \n",
      " 0   Row ID                18393 non-null  int64  \n",
      " 1   Order ID              18393 non-null  object \n",
      " 2   Order Date            18393 non-null  object \n",
      " 3   Order Quantity        18393 non-null  int64  \n",
      " 4   Sales                 18393 non-null  float64\n",
      " 5   Discount              18393 non-null  float64\n",
      " 6   Profit                18393 non-null  float64\n",
      " 7   Unit Price            18393 non-null  float64\n",
      " 8   Customer Name         18393 non-null  object \n",
      " 9   Country               18393 non-null  object \n",
      " 10  Region                18393 non-null  object \n",
      " 11  Customer Segment      18393 non-null  object \n",
      " 12  Product Category      18393 non-null  object \n",
      " 13  Product Sub-Category  18393 non-null  object \n",
      " 14  Product Name          18393 non-null  object \n",
      "dtypes: float64(4), int64(2), object(9)\n",
      "memory usage: 2.1+ MB\n"
     ]
    }
   ],
   "source": [
    "Superstore.info()"
   ]
  },
  {
   "cell_type": "code",
   "execution_count": 53,
   "id": "d7cd73c9",
   "metadata": {},
   "outputs": [
    {
     "name": "stdout",
     "output_type": "stream",
     "text": [
      "[1 2 1 1 2 2 2 1 1 1 1 2 2 2 0 1 1 0 1 2 2 2 1 1 1 1 1 1 1 1 1 2 1 1 2 1 2\n",
      " 1 1 1 1 1 1 1 1 1 1 1 1 2 1 2 1 1 1 1 2 2 1 1 2 1 2 2 2 1 2 1 1 1 2 1 1 0\n",
      " 1 2 1 1 2 1 2 0 1 1 2 2 1 2 1 1 1 2 2 2 2 2 1 2 2 1 2 1 1 2 2 1 1 2 1 2 2\n",
      " 1 1 1 1 2 1 2 2 2 1 1 1 1 2 1 1 2 0 1 1 1 2 2 2 0 1 1 1 2 1 1 2 1 2 1 1 2\n",
      " 2 2 1 1 1 2 1 1 2 1 1 2 2 1 1 2 2 2 1 2 2 1 2 2 2 1 1 1 1 1 2 1 1 0 1 2 1\n",
      " 1 2 2 1 2 2 1 1 1 1 2 2 1 1 2 2 2 1 2 1 1 1 2 0 1 1 1 2 1 1 2 2 2 1 1 1 1\n",
      " 1 1 1 1 2 1 2 0 1 1 1 1 2 1 0 2 1 2 1 1 1 1 1 1 1 1 2 1 2 1 1 2 1 1 2 2 2\n",
      " 0 1 1 2 2 0 1 2 1 2 1 1 2 2 0 2 1 1 0 1 1 2 1 2 2 1 1 2 2 2 2 1 1 1 2 1 1\n",
      " 1 2 2 1 1 1 1 2 1 2 1 1 2 1 1 2 1 1 1 1 1 1 1 0 1 1 0 1 2 2 1 1 2 2 1 1 1\n",
      " 1 2 0 2 2 1 2 1 2 1 2 0 1 2 1 1 2 1 2 2 2 1 2 1 0 0 2 2 1 2 1 2 2 1 2 2 1\n",
      " 1 2 0 1 2 1 1 1 2 1 1 2 1 1 2 1 1 1 1 1 2 2 2 2 1 2 2 2 1 1 1 1 2 1 1 1 2\n",
      " 0 2 0 2 1 2 1 1 2 1 2 1 1 2 0 2 2 0 1 2 2 1 2 1 1 2 1 1 1 0 2 2 2 1 2 2 1\n",
      " 1 2 2 2 1 2 1 1 1 2 1 1 1 1 1 1 2 2 2 2 2 1 2 1 1 1 1 2 2 1 2 2 2 2 1 0 1\n",
      " 1 1 2 2 1 1 0 1 1 1 0 1 1 2 1 2 1 0 1 2 2 2 2 1 2 2 1 2 1 1 2 1 1 1 1 0 1\n",
      " 1 1 1 1 2 1 2 0 1 2 2 1 1 2 1 2 1 1 1 1 2 1 2 1 2 2 1 1 2 1 1 1 1 1 2 2 1\n",
      " 1 1 2 1 2 2 1 1 2 1 2 1 1 2 2 0 1 2 1 2 1 0 2 2 1 1 1 1 2 1 1 0 1 1 1 2 1\n",
      " 2 0 1 1 2 1 2 1 0 1 2 2 1 2 1 2 1 1 2 1 2 1 2 1 1 2 1 2 1 1 1 1 2 2 1 2 2\n",
      " 1 1 1 1 1 0 1 0 1 1 1 1 1 1 0 1 1 2 1 1 1 2 0 1 1 1 1 1 1 1 1 1 1 2 2 1 1\n",
      " 2 0 0 1 1 2 1 1 2 1 1 1 1 2 1 1 1 1 1 1 2 1 1 1 2 0 2 0 2 1 1 1 2 2 2 1 1\n",
      " 1 1 2 0 1 1 1 1 1 1 1 1 2 1 2 1 2 1 0 1 1 0 1 1 2 1 1 1 2 1 1 1 2 1 1 1 2\n",
      " 1 1 1 2 2 1 2 2 1 2 2 1 1 1 1 1 1 2 1 1 2 1 2 2 0 2 2 2 2 2 1 1 2 1 1 1 1\n",
      " 1 1 1 1 1 1 2 1 1 1 1 1 1 1 1 2 1 2 2 1 1 1 0 2 1 2 1 2 1 1 2 2 1 1 1 1 1\n",
      " 1 1 2 2 1 1 1 2 0 1 2 1 2 2 1 1 1 1 1 1]\n"
     ]
    }
   ],
   "source": [
    "# Get predictions\n",
    "predictions = model.predict(Superstore_agg)\n",
    "print(predictions)"
   ]
  },
  {
   "cell_type": "code",
   "execution_count": 54,
   "id": "ae505646",
   "metadata": {},
   "outputs": [
    {
     "data": {
      "text/html": [
       "<div>\n",
       "<style scoped>\n",
       "    .dataframe tbody tr th:only-of-type {\n",
       "        vertical-align: middle;\n",
       "    }\n",
       "\n",
       "    .dataframe tbody tr th {\n",
       "        vertical-align: top;\n",
       "    }\n",
       "\n",
       "    .dataframe thead th {\n",
       "        text-align: right;\n",
       "    }\n",
       "</style>\n",
       "<table border=\"1\" class=\"dataframe\">\n",
       "  <thead>\n",
       "    <tr style=\"text-align: right;\">\n",
       "      <th></th>\n",
       "      <th>Order Quantity</th>\n",
       "      <th>Sales</th>\n",
       "      <th>Discount</th>\n",
       "      <th>Profit</th>\n",
       "      <th>Unit Price</th>\n",
       "      <th>class</th>\n",
       "    </tr>\n",
       "    <tr>\n",
       "      <th>Customer Name</th>\n",
       "      <th></th>\n",
       "      <th></th>\n",
       "      <th></th>\n",
       "      <th></th>\n",
       "      <th></th>\n",
       "      <th></th>\n",
       "    </tr>\n",
       "  </thead>\n",
       "  <tbody>\n",
       "    <tr>\n",
       "      <th>Aaron Bergman</th>\n",
       "      <td>181</td>\n",
       "      <td>12516.7460</td>\n",
       "      <td>0.63</td>\n",
       "      <td>3155.1865</td>\n",
       "      <td>824.474</td>\n",
       "      <td>1</td>\n",
       "    </tr>\n",
       "    <tr>\n",
       "      <th>Aaron Hawkins</th>\n",
       "      <td>424</td>\n",
       "      <td>29435.4255</td>\n",
       "      <td>1.68</td>\n",
       "      <td>6326.6252</td>\n",
       "      <td>1537.064</td>\n",
       "      <td>2</td>\n",
       "    </tr>\n",
       "    <tr>\n",
       "      <th>Aaron Smayling</th>\n",
       "      <td>351</td>\n",
       "      <td>11886.0155</td>\n",
       "      <td>4.15</td>\n",
       "      <td>1860.8254</td>\n",
       "      <td>1459.530</td>\n",
       "      <td>1</td>\n",
       "    </tr>\n",
       "    <tr>\n",
       "      <th>Adam Bellavance</th>\n",
       "      <td>389</td>\n",
       "      <td>19333.2000</td>\n",
       "      <td>1.34</td>\n",
       "      <td>1872.6485</td>\n",
       "      <td>2345.278</td>\n",
       "      <td>1</td>\n",
       "    </tr>\n",
       "    <tr>\n",
       "      <th>Adam Hart</th>\n",
       "      <td>581</td>\n",
       "      <td>29364.6015</td>\n",
       "      <td>4.17</td>\n",
       "      <td>4353.0290</td>\n",
       "      <td>2571.345</td>\n",
       "      <td>2</td>\n",
       "    </tr>\n",
       "  </tbody>\n",
       "</table>\n",
       "</div>"
      ],
      "text/plain": [
       "                 Order Quantity       Sales  Discount     Profit  Unit Price  \\\n",
       "Customer Name                                                                  \n",
       "Aaron Bergman               181  12516.7460      0.63  3155.1865     824.474   \n",
       "Aaron Hawkins               424  29435.4255      1.68  6326.6252    1537.064   \n",
       "Aaron Smayling              351  11886.0155      4.15  1860.8254    1459.530   \n",
       "Adam Bellavance             389  19333.2000      1.34  1872.6485    2345.278   \n",
       "Adam Hart                   581  29364.6015      4.17  4353.0290    2571.345   \n",
       "\n",
       "                 class  \n",
       "Customer Name           \n",
       "Aaron Bergman        1  \n",
       "Aaron Hawkins        2  \n",
       "Aaron Smayling       1  \n",
       "Adam Bellavance      1  \n",
       "Adam Hart            2  "
      ]
     },
     "execution_count": 54,
     "metadata": {},
     "output_type": "execute_result"
    }
   ],
   "source": [
    "# Add a new class column to customers\n",
    "Superstore_agg[\"class\"] = model.labels_\n",
    "Superstore_agg.head()"
   ]
  },
  {
   "cell_type": "code",
   "execution_count": 55,
   "id": "cb60869d",
   "metadata": {},
   "outputs": [
    {
     "name": "stderr",
     "output_type": "stream",
     "text": [
      "C:\\MyPrograms\\Anaconda3\\lib\\site-packages\\sklearn\\cluster\\_kmeans.py:881: UserWarning: KMeans is known to have a memory leak on Windows with MKL, when there are less chunks than available threads. You can avoid it by setting the environment variable OMP_NUM_THREADS=4.\n",
      "  warnings.warn(\n"
     ]
    },
    {
     "data": {
      "image/png": "[encoded data removed]",
      "text/plain": [
       "<Figure size 432x288 with 1 Axes>"
      ]
     },
     "metadata": {
      "needs_background": "light"
     },
     "output_type": "display_data"
    }
   ],
   "source": [
    "inertia = []\n",
    "# Same as k = list(range(1, 11))\n",
    "k = [1,2,3,4,5,6,7,8,9,10]\n",
    "\n",
    "\n",
    "# Looking for the best k\n",
    "for i in k:\n",
    "    km = KMeans(n_clusters=i, random_state=0)\n",
    "    km.fit(Superstore_agg)\n",
    "    inertia.append(km.inertia_)\n",
    "\n",
    "# Define a DataFrame to plot the Elbow Curve using hvPlot\n",
    "elbow_data_agg = {\"k\": k, \"inertia\": inertia}\n",
    "df_elbow_agg = pd.DataFrame(elbow_data_agg)\n",
    "\n",
    "plt.plot(df_elbow_agg['k'], df_elbow_agg['inertia'])\n",
    "plt.xticks(range(1,11))\n",
    "plt.xlabel('Number of clusters')\n",
    "plt.ylabel('Inertia')\n",
    "plt.savefig('Superstore_MLelbow.png')"
   ]
  },
  {
   "cell_type": "code",
   "execution_count": 56,
   "id": "91e450bc",
   "metadata": {},
   "outputs": [
    {
     "data": {
      "image/png": "[encoded data removed]",
      "text/plain": [
       "<Figure size 432x288 with 1 Axes>"
      ]
     },
     "metadata": {
      "needs_background": "light"
     },
     "output_type": "display_data"
    }
   ],
   "source": [
    "#agg\n",
    "plt.scatter(x=Superstore_agg[\"Sales\"], y=Superstore_agg['Profit'], c=Superstore_agg['class'])\n",
    "plt.xlabel('Sales')\n",
    "plt.ylabel('Profit')\n",
    "plt.savefig(\"SuperstoreScatteragg.png\")"
   ]
  },
  {
   "cell_type": "code",
   "execution_count": 57,
   "id": "7af7f22d",
   "metadata": {},
   "outputs": [
    {
     "data": {
      "image/png": "[encoded data removed]",
      "text/plain": [
       "<Figure size 432x288 with 1 Axes>"
      ]
     },
     "metadata": {
      "needs_background": "light"
     },
     "output_type": "display_data"
    }
   ],
   "source": [
    "#agg\n",
    "plt.scatter(x=Superstore_agg[\"Sales\"], y=Superstore_agg['Unit Price'], c=Superstore_agg['class'])\n",
    "plt.xlabel('Sales')\n",
    "plt.ylabel('Unit Price')\n",
    "plt.savefig(\"SuperstoreScatterUnit.png\")"
   ]
  },
  {
   "cell_type": "code",
   "execution_count": 58,
   "id": "b9d57933",
   "metadata": {},
   "outputs": [
    {
     "data": {
      "image/png": "[encoded data removed]",
      "text/plain": [
       "<Figure size 432x288 with 1 Axes>"
      ]
     },
     "metadata": {
      "needs_background": "light"
     },
     "output_type": "display_data"
    }
   ],
   "source": [
    "#agg\n",
    "plt.scatter(x=Superstore_agg[\"Sales\"], y=Superstore_agg['Discount'], c=Superstore_agg['class'])\n",
    "plt.xlabel('Sales')\n",
    "plt.ylabel('Discount')\n",
    "plt.savefig(\"SuperstoreScatterDiscount.png\")"
   ]
  },
  {
   "cell_type": "code",
   "execution_count": 20,
   "id": "516de751",
   "metadata": {},
   "outputs": [],
   "source": [
    "Superstore_ML = Superstore.drop(columns=['Row ID', 'Order Date'])"
   ]
  },
  {
   "cell_type": "code",
   "execution_count": 21,
   "id": "2c9b8ee3",
   "metadata": {},
   "outputs": [],
   "source": [
    "Superstore_ML = pd.get_dummies(Superstore_ML)"
   ]
  },
  {
   "cell_type": "code",
   "execution_count": 35,
   "id": "5a6044f1",
   "metadata": {},
   "outputs": [],
   "source": [
    "Superstore_ML = Superstore_ML.drop(columns=['Product Name_Canon imageCLASS 2200 Advanced Copier'])"
   ]
  },
  {
   "cell_type": "code",
   "execution_count": 36,
   "id": "5c2415a4",
   "metadata": {},
   "outputs": [
    {
     "name": "stdout",
     "output_type": "stream",
     "text": [
      "<class 'pandas.core.frame.DataFrame'>\n",
      "RangeIndex: 18393 entries, 0 to 18392\n",
      "Columns: 13776 entries, Order Quantity to class\n",
      "dtypes: float64(4), int32(1), int64(1), uint8(13770)\n",
      "memory usage: 242.3 MB\n"
     ]
    }
   ],
   "source": [
    "Superstore_ML.info()"
   ]
  },
  {
   "cell_type": "code",
   "execution_count": 37,
   "id": "4db8b710",
   "metadata": {},
   "outputs": [],
   "source": [
    "# Initializing model with K = 3 \n",
    "model = KMeans(n_clusters=3, random_state=5)"
   ]
  },
  {
   "cell_type": "code",
   "execution_count": 38,
   "id": "1273e4e6",
   "metadata": {},
   "outputs": [
    {
     "data": {
      "text/plain": [
       "KMeans(n_clusters=3, random_state=5)"
      ]
     },
     "execution_count": 38,
     "metadata": {},
     "output_type": "execute_result"
    }
   ],
   "source": [
    "model.fit(Superstore_ML)"
   ]
  },
  {
   "cell_type": "code",
   "execution_count": 39,
   "id": "a9143714",
   "metadata": {},
   "outputs": [
    {
     "name": "stdout",
     "output_type": "stream",
     "text": [
      "[0 0 0 ... 0 0 0]\n"
     ]
    }
   ],
   "source": [
    "# Get predictions\n",
    "predictions = model.predict(Superstore_ML)\n",
    "print(predictions)"
   ]
  },
  {
   "cell_type": "code",
   "execution_count": 40,
   "id": "33476f20",
   "metadata": {},
   "outputs": [
    {
     "data": {
      "text/html": [
       "<div>\n",
       "<style scoped>\n",
       "    .dataframe tbody tr th:only-of-type {\n",
       "        vertical-align: middle;\n",
       "    }\n",
       "\n",
       "    .dataframe tbody tr th {\n",
       "        vertical-align: top;\n",
       "    }\n",
       "\n",
       "    .dataframe thead th {\n",
       "        text-align: right;\n",
       "    }\n",
       "</style>\n",
       "<table border=\"1\" class=\"dataframe\">\n",
       "  <thead>\n",
       "    <tr style=\"text-align: right;\">\n",
       "      <th></th>\n",
       "      <th>Order Quantity</th>\n",
       "      <th>Sales</th>\n",
       "      <th>Discount</th>\n",
       "      <th>Profit</th>\n",
       "      <th>Unit Price</th>\n",
       "      <th>Order ID_10022</th>\n",
       "      <th>Order ID_10048</th>\n",
       "      <th>Order ID_10052</th>\n",
       "      <th>Order ID_10053</th>\n",
       "      <th>Order ID_10054</th>\n",
       "      <th>...</th>\n",
       "      <th>Product Name_iDEN i550</th>\n",
       "      <th>Product Name_iDEN i95</th>\n",
       "      <th>Product Name_iDENi80s</th>\n",
       "      <th>Product Name_iHome FM Clock Radio with Lightning Dock</th>\n",
       "      <th>Product Name_iKross Bluetooth Portable Keyboard + Cell Phone Stand Holder + Brush for Apple iPhone 5S 5C 5, 4S 4</th>\n",
       "      <th>Product Name_iOttie HLCRIO102 Car Mount</th>\n",
       "      <th>Product Name_iOttie XL Car Mount</th>\n",
       "      <th>Product Name_invisibleSHIELD by ZAGG Smudge-Free Screen Protector</th>\n",
       "      <th>Product Name_netTALK DUO VoIP Telephone Service</th>\n",
       "      <th>class</th>\n",
       "    </tr>\n",
       "  </thead>\n",
       "  <tbody>\n",
       "    <tr>\n",
       "      <th>0</th>\n",
       "      <td>5</td>\n",
       "      <td>14.76</td>\n",
       "      <td>0.01</td>\n",
       "      <td>1.32</td>\n",
       "      <td>2.88</td>\n",
       "      <td>0</td>\n",
       "      <td>0</td>\n",
       "      <td>0</td>\n",
       "      <td>0</td>\n",
       "      <td>0</td>\n",
       "      <td>...</td>\n",
       "      <td>0</td>\n",
       "      <td>0</td>\n",
       "      <td>0</td>\n",
       "      <td>0</td>\n",
       "      <td>0</td>\n",
       "      <td>0</td>\n",
       "      <td>0</td>\n",
       "      <td>0</td>\n",
       "      <td>0</td>\n",
       "      <td>0</td>\n",
       "    </tr>\n",
       "    <tr>\n",
       "      <th>1</th>\n",
       "      <td>13</td>\n",
       "      <td>42.27</td>\n",
       "      <td>0.01</td>\n",
       "      <td>4.56</td>\n",
       "      <td>2.84</td>\n",
       "      <td>0</td>\n",
       "      <td>0</td>\n",
       "      <td>0</td>\n",
       "      <td>0</td>\n",
       "      <td>0</td>\n",
       "      <td>...</td>\n",
       "      <td>0</td>\n",
       "      <td>0</td>\n",
       "      <td>0</td>\n",
       "      <td>0</td>\n",
       "      <td>0</td>\n",
       "      <td>0</td>\n",
       "      <td>0</td>\n",
       "      <td>0</td>\n",
       "      <td>0</td>\n",
       "      <td>0</td>\n",
       "    </tr>\n",
       "    <tr>\n",
       "      <th>2</th>\n",
       "      <td>23</td>\n",
       "      <td>164.02</td>\n",
       "      <td>0.03</td>\n",
       "      <td>-47.64</td>\n",
       "      <td>6.68</td>\n",
       "      <td>0</td>\n",
       "      <td>0</td>\n",
       "      <td>0</td>\n",
       "      <td>0</td>\n",
       "      <td>0</td>\n",
       "      <td>...</td>\n",
       "      <td>0</td>\n",
       "      <td>0</td>\n",
       "      <td>0</td>\n",
       "      <td>0</td>\n",
       "      <td>0</td>\n",
       "      <td>0</td>\n",
       "      <td>0</td>\n",
       "      <td>0</td>\n",
       "      <td>0</td>\n",
       "      <td>0</td>\n",
       "    </tr>\n",
       "    <tr>\n",
       "      <th>3</th>\n",
       "      <td>23</td>\n",
       "      <td>136.81</td>\n",
       "      <td>0.01</td>\n",
       "      <td>-30.51</td>\n",
       "      <td>5.68</td>\n",
       "      <td>0</td>\n",
       "      <td>0</td>\n",
       "      <td>0</td>\n",
       "      <td>0</td>\n",
       "      <td>0</td>\n",
       "      <td>...</td>\n",
       "      <td>0</td>\n",
       "      <td>0</td>\n",
       "      <td>0</td>\n",
       "      <td>0</td>\n",
       "      <td>0</td>\n",
       "      <td>0</td>\n",
       "      <td>0</td>\n",
       "      <td>0</td>\n",
       "      <td>0</td>\n",
       "      <td>0</td>\n",
       "    </tr>\n",
       "    <tr>\n",
       "      <th>4</th>\n",
       "      <td>26</td>\n",
       "      <td>4701.69</td>\n",
       "      <td>0.00</td>\n",
       "      <td>1148.90</td>\n",
       "      <td>205.99</td>\n",
       "      <td>0</td>\n",
       "      <td>0</td>\n",
       "      <td>0</td>\n",
       "      <td>0</td>\n",
       "      <td>0</td>\n",
       "      <td>...</td>\n",
       "      <td>0</td>\n",
       "      <td>0</td>\n",
       "      <td>0</td>\n",
       "      <td>0</td>\n",
       "      <td>0</td>\n",
       "      <td>0</td>\n",
       "      <td>0</td>\n",
       "      <td>0</td>\n",
       "      <td>0</td>\n",
       "      <td>2</td>\n",
       "    </tr>\n",
       "  </tbody>\n",
       "</table>\n",
       "<p>5 rows × 13776 columns</p>\n",
       "</div>"
      ],
      "text/plain": [
       "   Order Quantity    Sales  Discount   Profit  Unit Price  Order ID_10022  \\\n",
       "0               5    14.76      0.01     1.32        2.88               0   \n",
       "1              13    42.27      0.01     4.56        2.84               0   \n",
       "2              23   164.02      0.03   -47.64        6.68               0   \n",
       "3              23   136.81      0.01   -30.51        5.68               0   \n",
       "4              26  4701.69      0.00  1148.90      205.99               0   \n",
       "\n",
       "   Order ID_10048  Order ID_10052  Order ID_10053  Order ID_10054  ...  \\\n",
       "0               0               0               0               0  ...   \n",
       "1               0               0               0               0  ...   \n",
       "2               0               0               0               0  ...   \n",
       "3               0               0               0               0  ...   \n",
       "4               0               0               0               0  ...   \n",
       "\n",
       "   Product Name_iDEN i550  Product Name_iDEN i95  Product Name_iDENi80s  \\\n",
       "0                       0                      0                      0   \n",
       "1                       0                      0                      0   \n",
       "2                       0                      0                      0   \n",
       "3                       0                      0                      0   \n",
       "4                       0                      0                      0   \n",
       "\n",
       "   Product Name_iHome FM Clock Radio with Lightning Dock  \\\n",
       "0                                                  0       \n",
       "1                                                  0       \n",
       "2                                                  0       \n",
       "3                                                  0       \n",
       "4                                                  0       \n",
       "\n",
       "   Product Name_iKross Bluetooth Portable Keyboard + Cell Phone Stand Holder + Brush for Apple iPhone 5S 5C 5, 4S 4  \\\n",
       "0                                                  0                                                                  \n",
       "1                                                  0                                                                  \n",
       "2                                                  0                                                                  \n",
       "3                                                  0                                                                  \n",
       "4                                                  0                                                                  \n",
       "\n",
       "   Product Name_iOttie HLCRIO102 Car Mount  Product Name_iOttie XL Car Mount  \\\n",
       "0                                        0                                 0   \n",
       "1                                        0                                 0   \n",
       "2                                        0                                 0   \n",
       "3                                        0                                 0   \n",
       "4                                        0                                 0   \n",
       "\n",
       "   Product Name_invisibleSHIELD by ZAGG Smudge-Free Screen Protector  \\\n",
       "0                                                  0                   \n",
       "1                                                  0                   \n",
       "2                                                  0                   \n",
       "3                                                  0                   \n",
       "4                                                  0                   \n",
       "\n",
       "   Product Name_netTALK DUO VoIP Telephone Service  class  \n",
       "0                                                0      0  \n",
       "1                                                0      0  \n",
       "2                                                0      0  \n",
       "3                                                0      0  \n",
       "4                                                0      2  \n",
       "\n",
       "[5 rows x 13776 columns]"
      ]
     },
     "execution_count": 40,
     "metadata": {},
     "output_type": "execute_result"
    }
   ],
   "source": [
    "# Add a new class column to customers\n",
    "Superstore_ML[\"class\"] = model.labels_\n",
    "Superstore_ML.head()"
   ]
  },
  {
   "cell_type": "code",
   "execution_count": 41,
   "id": "04f04411",
   "metadata": {},
   "outputs": [
    {
     "data": {
      "image/png": "[encoded data removed]",
      "text/plain": [
       "<Figure size 432x288 with 1 Axes>"
      ]
     },
     "metadata": {
      "needs_background": "light"
     },
     "output_type": "display_data"
    }
   ],
   "source": [
    "#Customer\n",
    "plt.scatter(x=Superstore_ML[\"Sales\"], y=Superstore_ML['Profit'], c=Superstore_ML['class'])\n",
    "plt.xlabel('Sales')\n",
    "plt.ylabel('Profit')\n",
    "plt.savefig(\"SuperstoreScatter.png\")"
   ]
  },
  {
   "cell_type": "code",
   "execution_count": 42,
   "id": "fafe4546",
   "metadata": {},
   "outputs": [
    {
     "data": {
      "image/png": "[encoded data removed]",
      "text/plain": [
       "<Figure size 432x288 with 1 Axes>"
      ]
     },
     "metadata": {
      "needs_background": "light"
     },
     "output_type": "display_data"
    }
   ],
   "source": [
    "inertia = []\n",
    "# Same as k = list(range(1, 11))\n",
    "k = [1,2,3,4,5,6,7,8,9,10]\n",
    "\n",
    "\n",
    "# Looking for the best k\n",
    "for i in k:\n",
    "    km = KMeans(n_clusters=i, random_state=0)\n",
    "    km.fit(Superstore_ML)\n",
    "    inertia.append(km.inertia_)\n",
    "\n",
    "# Define a DataFrame to plot the Elbow Curve using hvPlot\n",
    "elbow_data = {\"k\": k, \"inertia\": inertia}\n",
    "df_elbow = pd.DataFrame(elbow_data)\n",
    "\n",
    "plt.plot(df_elbow['k'], df_elbow['inertia'])\n",
    "plt.xticks(range(1,11))\n",
    "plt.xlabel('Number of clusters')\n",
    "plt.ylabel('Inertia')\n",
    "plt.savefig('Superstore_MLelbow.png')"
   ]
  },
  {
   "cell_type": "code",
   "execution_count": 43,
   "id": "af14d430",
   "metadata": {},
   "outputs": [
    {
     "data": {
      "image/png": "[encoded data removed]",
      "text/plain": [
       "<Figure size 432x288 with 1 Axes>"
      ]
     },
     "metadata": {
      "needs_background": "light"
     },
     "output_type": "display_data"
    }
   ],
   "source": [
    "plt.scatter(x=Superstore_ML[\"Profit\"], y=Superstore_ML['Discount'], c=Superstore_ML['class'])\n",
    "plt.xlabel('Profit')\n",
    "plt.ylabel('Discount')\n",
    "plt.savefig(\"SuperstoreScatterDiscount.png\")"
   ]
  },
  {
   "cell_type": "code",
   "execution_count": 44,
   "id": "5b1e0a4a",
   "metadata": {},
   "outputs": [],
   "source": [
    "Superstore_ML2 = pd.DataFrame(Superstore_ML)\n",
    "def get_clusters(k, Superstore_ML2):\n",
    "    # Initialize the K-Means model\n",
    "    model = KMeans(n_clusters=k, random_state=0)\n",
    "\n",
    "    # Train the model\n",
    "    model.fit(Superstore_ML2)\n",
    "\n",
    "    # Predict clusters\n",
    "    predictions = model.predict(Superstore_ML2)\n",
    "\n",
    "    # Create return DataFrame with predicted clusters\n",
    "    Superstore_ML2[\"class\"] = model.labels_\n",
    "\n",
    "    return Superstore_ML2"
   ]
  },
  {
   "cell_type": "code",
   "execution_count": 45,
   "id": "b321500c",
   "metadata": {},
   "outputs": [],
   "source": [
    "clusters = get_clusters(3, Superstore_ML2)"
   ]
  },
  {
   "cell_type": "code",
   "execution_count": 46,
   "id": "0a4624de",
   "metadata": {},
   "outputs": [],
   "source": [
    "def show_clusters(Superstore_ML2):\n",
    "    plt.scatter(Superstore_ML2['Sales'], Superstore_ML2['Profit'], c=Superstore_ML2['class'])\n",
    "    plt.xlabel('Sales')\n",
    "    plt.ylabel('Profit')\n",
    "    plt.show()"
   ]
  },
  {
   "cell_type": "code",
   "execution_count": 47,
   "id": "fc90b9b3",
   "metadata": {},
   "outputs": [
    {
     "data": {
      "image/png": "[encoded data removed]",
      "text/plain": [
       "<Figure size 432x288 with 1 Axes>"
      ]
     },
     "metadata": {
      "needs_background": "light"
     },
     "output_type": "display_data"
    }
   ],
   "source": [
    "show_clusters(clusters)"
   ]
  }
 ],
 "metadata": {
  "kernelspec": {
   "display_name": "Python 3",
   "language": "python",
   "name": "python3"
  },
  "language_info": {
   "codemirror_mode": {
    "name": "ipython",
    "version": 3
   },
   "file_extension": ".py",
   "mimetype": "text/x-python",
   "name": "python",
   "nbconvert_exporter": "python",
   "pygments_lexer": "ipython3",
   "version": "3.8.8"
  }
 },
 "nbformat": 4,
 "nbformat_minor": 5
}
